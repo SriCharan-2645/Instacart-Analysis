{
 "cells": [
  {
   "cell_type": "code",
   "execution_count": 98,
   "id": "953f6112",
   "metadata": {},
   "outputs": [],
   "source": [
    "#importing libraries\n",
    "import pandas as pd\n",
    "import matplotlib.pyplot as plt\n",
    "import seaborn as sns\n",
    "import warnings\n",
    "warnings.filterwarnings(\"ignore\")"
   ]
  },
  {
   "cell_type": "markdown",
   "id": "8f2ed638",
   "metadata": {},
   "source": [
    "## Reading datasets "
   ]
  },
  {
   "cell_type": "code",
   "execution_count": 2,
   "id": "dcb428ee",
   "metadata": {},
   "outputs": [
    {
     "name": "stdout",
     "output_type": "stream",
     "text": [
      "<class 'pandas.core.frame.DataFrame'>\n",
      "RangeIndex: 134 entries, 0 to 133\n",
      "Data columns (total 2 columns):\n",
      " #   Column    Non-Null Count  Dtype \n",
      "---  ------    --------------  ----- \n",
      " 0   aisle_id  134 non-null    int64 \n",
      " 1   aisle     134 non-null    object\n",
      "dtypes: int64(1), object(1)\n",
      "memory usage: 2.2+ KB\n"
     ]
    }
   ],
   "source": [
    "aisles=pd.read_csv(\"data/aisles.csv\")\n",
    "aisles.info()"
   ]
  },
  {
   "cell_type": "code",
   "execution_count": 3,
   "id": "16a49aec",
   "metadata": {},
   "outputs": [
    {
     "name": "stdout",
     "output_type": "stream",
     "text": [
      "<class 'pandas.core.frame.DataFrame'>\n",
      "RangeIndex: 21 entries, 0 to 20\n",
      "Data columns (total 2 columns):\n",
      " #   Column         Non-Null Count  Dtype \n",
      "---  ------         --------------  ----- \n",
      " 0   department_id  21 non-null     int64 \n",
      " 1   department     21 non-null     object\n",
      "dtypes: int64(1), object(1)\n",
      "memory usage: 464.0+ bytes\n"
     ]
    }
   ],
   "source": [
    "departments=pd.read_csv(\"data/departments.csv\")\n",
    "departments.info()"
   ]
  },
  {
   "cell_type": "code",
   "execution_count": 4,
   "id": "b96e4b08",
   "metadata": {},
   "outputs": [
    {
     "name": "stdout",
     "output_type": "stream",
     "text": [
      "<class 'pandas.core.frame.DataFrame'>\n",
      "RangeIndex: 3421083 entries, 0 to 3421082\n",
      "Data columns (total 7 columns):\n",
      " #   Column                  Dtype  \n",
      "---  ------                  -----  \n",
      " 0   order_id                int64  \n",
      " 1   user_id                 int64  \n",
      " 2   eval_set                object \n",
      " 3   order_number            int64  \n",
      " 4   order_dow               int64  \n",
      " 5   order_hour_of_day       int64  \n",
      " 6   days_since_prior_order  float64\n",
      "dtypes: float64(1), int64(5), object(1)\n",
      "memory usage: 182.7+ MB\n"
     ]
    }
   ],
   "source": [
    "orders=pd.read_csv(\"data/orders.csv\")\n",
    "orders.info()"
   ]
  },
  {
   "cell_type": "code",
   "execution_count": 5,
   "id": "2ba6e25c",
   "metadata": {},
   "outputs": [
    {
     "name": "stdout",
     "output_type": "stream",
     "text": [
      "<class 'pandas.core.frame.DataFrame'>\n",
      "RangeIndex: 49688 entries, 0 to 49687\n",
      "Data columns (total 4 columns):\n",
      " #   Column         Non-Null Count  Dtype \n",
      "---  ------         --------------  ----- \n",
      " 0   product_id     49688 non-null  int64 \n",
      " 1   product_name   49688 non-null  object\n",
      " 2   aisle_id       49688 non-null  int64 \n",
      " 3   department_id  49688 non-null  int64 \n",
      "dtypes: int64(3), object(1)\n",
      "memory usage: 1.5+ MB\n"
     ]
    }
   ],
   "source": [
    "products=pd.read_csv(\"data/products.csv\")\n",
    "products.info()"
   ]
  },
  {
   "cell_type": "markdown",
   "id": "5ab3018a",
   "metadata": {},
   "source": [
    "## Extracting the organic products"
   ]
  },
  {
   "cell_type": "code",
   "execution_count": 6,
   "id": "1f84b2c7",
   "metadata": {},
   "outputs": [
    {
     "data": {
      "text/html": [
       "<div>\n",
       "<style scoped>\n",
       "    .dataframe tbody tr th:only-of-type {\n",
       "        vertical-align: middle;\n",
       "    }\n",
       "\n",
       "    .dataframe tbody tr th {\n",
       "        vertical-align: top;\n",
       "    }\n",
       "\n",
       "    .dataframe thead th {\n",
       "        text-align: right;\n",
       "    }\n",
       "</style>\n",
       "<table border=\"1\" class=\"dataframe\">\n",
       "  <thead>\n",
       "    <tr style=\"text-align: right;\">\n",
       "      <th></th>\n",
       "      <th>product_id</th>\n",
       "      <th>product_name</th>\n",
       "      <th>aisle_id</th>\n",
       "      <th>department_id</th>\n",
       "      <th>is_organic</th>\n",
       "    </tr>\n",
       "  </thead>\n",
       "  <tbody>\n",
       "    <tr>\n",
       "      <th>0</th>\n",
       "      <td>1</td>\n",
       "      <td>Chocolate Sandwich Cookies</td>\n",
       "      <td>61</td>\n",
       "      <td>19</td>\n",
       "      <td>False</td>\n",
       "    </tr>\n",
       "    <tr>\n",
       "      <th>1</th>\n",
       "      <td>2</td>\n",
       "      <td>All-Seasons Salt</td>\n",
       "      <td>104</td>\n",
       "      <td>13</td>\n",
       "      <td>False</td>\n",
       "    </tr>\n",
       "    <tr>\n",
       "      <th>2</th>\n",
       "      <td>3</td>\n",
       "      <td>Robust Golden Unsweetened Oolong Tea</td>\n",
       "      <td>94</td>\n",
       "      <td>7</td>\n",
       "      <td>False</td>\n",
       "    </tr>\n",
       "    <tr>\n",
       "      <th>3</th>\n",
       "      <td>4</td>\n",
       "      <td>Smart Ones Classic Favorites Mini Rigatoni Wit...</td>\n",
       "      <td>38</td>\n",
       "      <td>1</td>\n",
       "      <td>False</td>\n",
       "    </tr>\n",
       "    <tr>\n",
       "      <th>4</th>\n",
       "      <td>5</td>\n",
       "      <td>Green Chile Anytime Sauce</td>\n",
       "      <td>5</td>\n",
       "      <td>13</td>\n",
       "      <td>False</td>\n",
       "    </tr>\n",
       "  </tbody>\n",
       "</table>\n",
       "</div>"
      ],
      "text/plain": [
       "   product_id                                       product_name  aisle_id  \\\n",
       "0           1                         Chocolate Sandwich Cookies        61   \n",
       "1           2                                   All-Seasons Salt       104   \n",
       "2           3               Robust Golden Unsweetened Oolong Tea        94   \n",
       "3           4  Smart Ones Classic Favorites Mini Rigatoni Wit...        38   \n",
       "4           5                          Green Chile Anytime Sauce         5   \n",
       "\n",
       "   department_id  is_organic  \n",
       "0             19       False  \n",
       "1             13       False  \n",
       "2              7       False  \n",
       "3              1       False  \n",
       "4             13       False  "
      ]
     },
     "execution_count": 6,
     "metadata": {},
     "output_type": "execute_result"
    }
   ],
   "source": [
    "organic = products['product_name'].str.contains('Organic')\n",
    "products['is_organic'] = organic\n",
    "products.head()"
   ]
  },
  {
   "cell_type": "code",
   "execution_count": 7,
   "id": "8f4a749d",
   "metadata": {},
   "outputs": [
    {
     "name": "stdout",
     "output_type": "stream",
     "text": [
      "<class 'pandas.core.frame.DataFrame'>\n",
      "RangeIndex: 32434489 entries, 0 to 32434488\n",
      "Data columns (total 4 columns):\n",
      " #   Column             Dtype\n",
      "---  ------             -----\n",
      " 0   order_id           int64\n",
      " 1   product_id         int64\n",
      " 2   add_to_cart_order  int64\n",
      " 3   reordered          int64\n",
      "dtypes: int64(4)\n",
      "memory usage: 989.8 MB\n"
     ]
    }
   ],
   "source": [
    "order_products_prior=pd.read_csv(\"data/order_products__prior.csv\")\n",
    "order_products_prior.info()"
   ]
  },
  {
   "cell_type": "code",
   "execution_count": 8,
   "id": "0cc72698",
   "metadata": {},
   "outputs": [
    {
     "data": {
      "text/plain": [
       "order_id             32434489\n",
       "product_id           32434489\n",
       "add_to_cart_order    32434489\n",
       "reordered            32434489\n",
       "dtype: int64"
      ]
     },
     "execution_count": 8,
     "metadata": {},
     "output_type": "execute_result"
    }
   ],
   "source": [
    "order_products_prior.count()"
   ]
  },
  {
   "cell_type": "code",
   "execution_count": 9,
   "id": "b531f2df",
   "metadata": {},
   "outputs": [
    {
     "name": "stdout",
     "output_type": "stream",
     "text": [
      "<class 'pandas.core.frame.DataFrame'>\n",
      "RangeIndex: 1384617 entries, 0 to 1384616\n",
      "Data columns (total 4 columns):\n",
      " #   Column             Non-Null Count    Dtype\n",
      "---  ------             --------------    -----\n",
      " 0   order_id           1384617 non-null  int64\n",
      " 1   product_id         1384617 non-null  int64\n",
      " 2   add_to_cart_order  1384617 non-null  int64\n",
      " 3   reordered          1384617 non-null  int64\n",
      "dtypes: int64(4)\n",
      "memory usage: 42.3 MB\n"
     ]
    }
   ],
   "source": [
    "order_products_train=pd.read_csv(\"data/order_products__train.csv\")\n",
    "order_products_train.info()"
   ]
  },
  {
   "cell_type": "markdown",
   "id": "ef882670",
   "metadata": {},
   "source": [
    "## Concating the prior and train datasets to one"
   ]
  },
  {
   "cell_type": "code",
   "execution_count": 10,
   "id": "4d11e66d",
   "metadata": {},
   "outputs": [],
   "source": [
    "df = pd.concat([order_products_prior,order_products_train],axis = 0)"
   ]
  },
  {
   "cell_type": "code",
   "execution_count": 11,
   "id": "b6711dc2",
   "metadata": {},
   "outputs": [
    {
     "data": {
      "text/html": [
       "<div>\n",
       "<style scoped>\n",
       "    .dataframe tbody tr th:only-of-type {\n",
       "        vertical-align: middle;\n",
       "    }\n",
       "\n",
       "    .dataframe tbody tr th {\n",
       "        vertical-align: top;\n",
       "    }\n",
       "\n",
       "    .dataframe thead th {\n",
       "        text-align: right;\n",
       "    }\n",
       "</style>\n",
       "<table border=\"1\" class=\"dataframe\">\n",
       "  <thead>\n",
       "    <tr style=\"text-align: right;\">\n",
       "      <th></th>\n",
       "      <th>order_id</th>\n",
       "      <th>product_id</th>\n",
       "      <th>add_to_cart_order</th>\n",
       "      <th>reordered</th>\n",
       "    </tr>\n",
       "  </thead>\n",
       "  <tbody>\n",
       "    <tr>\n",
       "      <th>0</th>\n",
       "      <td>2</td>\n",
       "      <td>33120</td>\n",
       "      <td>1</td>\n",
       "      <td>1</td>\n",
       "    </tr>\n",
       "    <tr>\n",
       "      <th>1</th>\n",
       "      <td>2</td>\n",
       "      <td>28985</td>\n",
       "      <td>2</td>\n",
       "      <td>1</td>\n",
       "    </tr>\n",
       "    <tr>\n",
       "      <th>2</th>\n",
       "      <td>2</td>\n",
       "      <td>9327</td>\n",
       "      <td>3</td>\n",
       "      <td>0</td>\n",
       "    </tr>\n",
       "    <tr>\n",
       "      <th>3</th>\n",
       "      <td>2</td>\n",
       "      <td>45918</td>\n",
       "      <td>4</td>\n",
       "      <td>1</td>\n",
       "    </tr>\n",
       "    <tr>\n",
       "      <th>4</th>\n",
       "      <td>2</td>\n",
       "      <td>30035</td>\n",
       "      <td>5</td>\n",
       "      <td>0</td>\n",
       "    </tr>\n",
       "    <tr>\n",
       "      <th>...</th>\n",
       "      <td>...</td>\n",
       "      <td>...</td>\n",
       "      <td>...</td>\n",
       "      <td>...</td>\n",
       "    </tr>\n",
       "    <tr>\n",
       "      <th>1384612</th>\n",
       "      <td>3421063</td>\n",
       "      <td>14233</td>\n",
       "      <td>3</td>\n",
       "      <td>1</td>\n",
       "    </tr>\n",
       "    <tr>\n",
       "      <th>1384613</th>\n",
       "      <td>3421063</td>\n",
       "      <td>35548</td>\n",
       "      <td>4</td>\n",
       "      <td>1</td>\n",
       "    </tr>\n",
       "    <tr>\n",
       "      <th>1384614</th>\n",
       "      <td>3421070</td>\n",
       "      <td>35951</td>\n",
       "      <td>1</td>\n",
       "      <td>1</td>\n",
       "    </tr>\n",
       "    <tr>\n",
       "      <th>1384615</th>\n",
       "      <td>3421070</td>\n",
       "      <td>16953</td>\n",
       "      <td>2</td>\n",
       "      <td>1</td>\n",
       "    </tr>\n",
       "    <tr>\n",
       "      <th>1384616</th>\n",
       "      <td>3421070</td>\n",
       "      <td>4724</td>\n",
       "      <td>3</td>\n",
       "      <td>1</td>\n",
       "    </tr>\n",
       "  </tbody>\n",
       "</table>\n",
       "<p>33819106 rows × 4 columns</p>\n",
       "</div>"
      ],
      "text/plain": [
       "         order_id  product_id  add_to_cart_order  reordered\n",
       "0               2       33120                  1          1\n",
       "1               2       28985                  2          1\n",
       "2               2        9327                  3          0\n",
       "3               2       45918                  4          1\n",
       "4               2       30035                  5          0\n",
       "...           ...         ...                ...        ...\n",
       "1384612   3421063       14233                  3          1\n",
       "1384613   3421063       35548                  4          1\n",
       "1384614   3421070       35951                  1          1\n",
       "1384615   3421070       16953                  2          1\n",
       "1384616   3421070        4724                  3          1\n",
       "\n",
       "[33819106 rows x 4 columns]"
      ]
     },
     "execution_count": 11,
     "metadata": {},
     "output_type": "execute_result"
    }
   ],
   "source": [
    "df"
   ]
  },
  {
   "cell_type": "code",
   "execution_count": 12,
   "id": "1b01cb94",
   "metadata": {},
   "outputs": [
    {
     "data": {
      "text/plain": [
       "order_id             33819106\n",
       "product_id           33819106\n",
       "add_to_cart_order    33819106\n",
       "reordered            33819106\n",
       "dtype: int64"
      ]
     },
     "execution_count": 12,
     "metadata": {},
     "output_type": "execute_result"
    }
   ],
   "source": [
    "df.count()"
   ]
  },
  {
   "cell_type": "code",
   "execution_count": 13,
   "id": "fad05925",
   "metadata": {},
   "outputs": [
    {
     "data": {
      "text/plain": [
       "prior    3214874\n",
       "train     131209\n",
       "test       75000\n",
       "Name: eval_set, dtype: int64"
      ]
     },
     "execution_count": 13,
     "metadata": {},
     "output_type": "execute_result"
    }
   ],
   "source": [
    "## To know what kind of the values has the orders dataset has\n",
    "orders['eval_set'].value_counts()"
   ]
  },
  {
   "cell_type": "markdown",
   "id": "461bd153",
   "metadata": {},
   "source": [
    "#### As the evaluation set column has three values and we have prior and train datasets and we have considered only those two values from the evalution set column. "
   ]
  },
  {
   "cell_type": "markdown",
   "id": "963831c4",
   "metadata": {},
   "source": [
    "## Merging the datasets"
   ]
  },
  {
   "cell_type": "code",
   "execution_count": 14,
   "id": "6a1b0fb6",
   "metadata": {},
   "outputs": [],
   "source": [
    "df_new = df.merge(products, how = 'inner', on = 'product_id')"
   ]
  },
  {
   "cell_type": "code",
   "execution_count": 15,
   "id": "6ba31272",
   "metadata": {},
   "outputs": [
    {
     "data": {
      "text/plain": [
       "order_id             33819106\n",
       "product_id           33819106\n",
       "add_to_cart_order    33819106\n",
       "reordered            33819106\n",
       "product_name         33819106\n",
       "aisle_id             33819106\n",
       "department_id        33819106\n",
       "is_organic           33819106\n",
       "dtype: int64"
      ]
     },
     "execution_count": 15,
     "metadata": {},
     "output_type": "execute_result"
    }
   ],
   "source": [
    "df_new.count()"
   ]
  },
  {
   "cell_type": "code",
   "execution_count": 16,
   "id": "e91cfd4b",
   "metadata": {},
   "outputs": [
    {
     "data": {
      "text/plain": [
       "order_id             0\n",
       "product_id           0\n",
       "add_to_cart_order    0\n",
       "reordered            0\n",
       "product_name         0\n",
       "aisle_id             0\n",
       "department_id        0\n",
       "is_organic           0\n",
       "dtype: int64"
      ]
     },
     "execution_count": 16,
     "metadata": {},
     "output_type": "execute_result"
    }
   ],
   "source": [
    "df_new.isna().sum()"
   ]
  },
  {
   "cell_type": "markdown",
   "id": "d61cf669",
   "metadata": {},
   "source": [
    "### Randomly checking the value"
   ]
  },
  {
   "cell_type": "code",
   "execution_count": 17,
   "id": "fbe62336",
   "metadata": {},
   "outputs": [
    {
     "data": {
      "text/html": [
       "<div>\n",
       "<style scoped>\n",
       "    .dataframe tbody tr th:only-of-type {\n",
       "        vertical-align: middle;\n",
       "    }\n",
       "\n",
       "    .dataframe tbody tr th {\n",
       "        vertical-align: top;\n",
       "    }\n",
       "\n",
       "    .dataframe thead th {\n",
       "        text-align: right;\n",
       "    }\n",
       "</style>\n",
       "<table border=\"1\" class=\"dataframe\">\n",
       "  <thead>\n",
       "    <tr style=\"text-align: right;\">\n",
       "      <th></th>\n",
       "      <th>order_id</th>\n",
       "      <th>product_id</th>\n",
       "      <th>add_to_cart_order</th>\n",
       "      <th>reordered</th>\n",
       "      <th>product_name</th>\n",
       "      <th>aisle_id</th>\n",
       "      <th>department_id</th>\n",
       "      <th>is_organic</th>\n",
       "    </tr>\n",
       "  </thead>\n",
       "  <tbody>\n",
       "    <tr>\n",
       "      <th>4595800</th>\n",
       "      <td>3421070</td>\n",
       "      <td>35951</td>\n",
       "      <td>1</td>\n",
       "      <td>1</td>\n",
       "      <td>Organic Unsweetened Almond Milk</td>\n",
       "      <td>91</td>\n",
       "      <td>16</td>\n",
       "      <td>True</td>\n",
       "    </tr>\n",
       "    <tr>\n",
       "      <th>10808227</th>\n",
       "      <td>3421070</td>\n",
       "      <td>16953</td>\n",
       "      <td>2</td>\n",
       "      <td>1</td>\n",
       "      <td>Creamy Peanut Butter</td>\n",
       "      <td>88</td>\n",
       "      <td>13</td>\n",
       "      <td>False</td>\n",
       "    </tr>\n",
       "    <tr>\n",
       "      <th>19831040</th>\n",
       "      <td>3421070</td>\n",
       "      <td>4724</td>\n",
       "      <td>3</td>\n",
       "      <td>1</td>\n",
       "      <td>Broccoli Florettes</td>\n",
       "      <td>32</td>\n",
       "      <td>4</td>\n",
       "      <td>False</td>\n",
       "    </tr>\n",
       "  </tbody>\n",
       "</table>\n",
       "</div>"
      ],
      "text/plain": [
       "          order_id  product_id  add_to_cart_order  reordered  \\\n",
       "4595800    3421070       35951                  1          1   \n",
       "10808227   3421070       16953                  2          1   \n",
       "19831040   3421070        4724                  3          1   \n",
       "\n",
       "                             product_name  aisle_id  department_id  is_organic  \n",
       "4595800   Organic Unsweetened Almond Milk        91             16        True  \n",
       "10808227             Creamy Peanut Butter        88             13       False  \n",
       "19831040               Broccoli Florettes        32              4       False  "
      ]
     },
     "execution_count": 17,
     "metadata": {},
     "output_type": "execute_result"
    }
   ],
   "source": [
    "df_new[df_new['order_id']==3421070]"
   ]
  },
  {
   "cell_type": "code",
   "execution_count": 18,
   "id": "5fb4b749",
   "metadata": {},
   "outputs": [
    {
     "data": {
      "text/html": [
       "<div>\n",
       "<style scoped>\n",
       "    .dataframe tbody tr th:only-of-type {\n",
       "        vertical-align: middle;\n",
       "    }\n",
       "\n",
       "    .dataframe tbody tr th {\n",
       "        vertical-align: top;\n",
       "    }\n",
       "\n",
       "    .dataframe thead th {\n",
       "        text-align: right;\n",
       "    }\n",
       "</style>\n",
       "<table border=\"1\" class=\"dataframe\">\n",
       "  <thead>\n",
       "    <tr style=\"text-align: right;\">\n",
       "      <th></th>\n",
       "      <th>order_id</th>\n",
       "      <th>product_id</th>\n",
       "      <th>add_to_cart_order</th>\n",
       "      <th>reordered</th>\n",
       "      <th>product_name</th>\n",
       "      <th>aisle_id</th>\n",
       "      <th>department_id</th>\n",
       "      <th>is_organic</th>\n",
       "    </tr>\n",
       "  </thead>\n",
       "  <tbody>\n",
       "    <tr>\n",
       "      <th>33289766</th>\n",
       "      <td>57903</td>\n",
       "      <td>42</td>\n",
       "      <td>21</td>\n",
       "      <td>0</td>\n",
       "      <td>Biotin 1000 mcg</td>\n",
       "      <td>47</td>\n",
       "      <td>11</td>\n",
       "      <td>False</td>\n",
       "    </tr>\n",
       "    <tr>\n",
       "      <th>33289767</th>\n",
       "      <td>177189</td>\n",
       "      <td>42</td>\n",
       "      <td>4</td>\n",
       "      <td>0</td>\n",
       "      <td>Biotin 1000 mcg</td>\n",
       "      <td>47</td>\n",
       "      <td>11</td>\n",
       "      <td>False</td>\n",
       "    </tr>\n",
       "    <tr>\n",
       "      <th>33289768</th>\n",
       "      <td>292672</td>\n",
       "      <td>42</td>\n",
       "      <td>5</td>\n",
       "      <td>0</td>\n",
       "      <td>Biotin 1000 mcg</td>\n",
       "      <td>47</td>\n",
       "      <td>11</td>\n",
       "      <td>False</td>\n",
       "    </tr>\n",
       "    <tr>\n",
       "      <th>33289769</th>\n",
       "      <td>611135</td>\n",
       "      <td>42</td>\n",
       "      <td>7</td>\n",
       "      <td>1</td>\n",
       "      <td>Biotin 1000 mcg</td>\n",
       "      <td>47</td>\n",
       "      <td>11</td>\n",
       "      <td>False</td>\n",
       "    </tr>\n",
       "    <tr>\n",
       "      <th>33289770</th>\n",
       "      <td>735753</td>\n",
       "      <td>42</td>\n",
       "      <td>1</td>\n",
       "      <td>0</td>\n",
       "      <td>Biotin 1000 mcg</td>\n",
       "      <td>47</td>\n",
       "      <td>11</td>\n",
       "      <td>False</td>\n",
       "    </tr>\n",
       "    <tr>\n",
       "      <th>33289771</th>\n",
       "      <td>886885</td>\n",
       "      <td>42</td>\n",
       "      <td>1</td>\n",
       "      <td>0</td>\n",
       "      <td>Biotin 1000 mcg</td>\n",
       "      <td>47</td>\n",
       "      <td>11</td>\n",
       "      <td>False</td>\n",
       "    </tr>\n",
       "    <tr>\n",
       "      <th>33289772</th>\n",
       "      <td>1011195</td>\n",
       "      <td>42</td>\n",
       "      <td>7</td>\n",
       "      <td>0</td>\n",
       "      <td>Biotin 1000 mcg</td>\n",
       "      <td>47</td>\n",
       "      <td>11</td>\n",
       "      <td>False</td>\n",
       "    </tr>\n",
       "    <tr>\n",
       "      <th>33289773</th>\n",
       "      <td>1140376</td>\n",
       "      <td>42</td>\n",
       "      <td>2</td>\n",
       "      <td>0</td>\n",
       "      <td>Biotin 1000 mcg</td>\n",
       "      <td>47</td>\n",
       "      <td>11</td>\n",
       "      <td>False</td>\n",
       "    </tr>\n",
       "    <tr>\n",
       "      <th>33289774</th>\n",
       "      <td>1517003</td>\n",
       "      <td>42</td>\n",
       "      <td>56</td>\n",
       "      <td>0</td>\n",
       "      <td>Biotin 1000 mcg</td>\n",
       "      <td>47</td>\n",
       "      <td>11</td>\n",
       "      <td>False</td>\n",
       "    </tr>\n",
       "    <tr>\n",
       "      <th>33289775</th>\n",
       "      <td>1975795</td>\n",
       "      <td>42</td>\n",
       "      <td>6</td>\n",
       "      <td>0</td>\n",
       "      <td>Biotin 1000 mcg</td>\n",
       "      <td>47</td>\n",
       "      <td>11</td>\n",
       "      <td>False</td>\n",
       "    </tr>\n",
       "    <tr>\n",
       "      <th>33289776</th>\n",
       "      <td>2468906</td>\n",
       "      <td>42</td>\n",
       "      <td>1</td>\n",
       "      <td>0</td>\n",
       "      <td>Biotin 1000 mcg</td>\n",
       "      <td>47</td>\n",
       "      <td>11</td>\n",
       "      <td>False</td>\n",
       "    </tr>\n",
       "    <tr>\n",
       "      <th>33289777</th>\n",
       "      <td>3049362</td>\n",
       "      <td>42</td>\n",
       "      <td>5</td>\n",
       "      <td>0</td>\n",
       "      <td>Biotin 1000 mcg</td>\n",
       "      <td>47</td>\n",
       "      <td>11</td>\n",
       "      <td>False</td>\n",
       "    </tr>\n",
       "    <tr>\n",
       "      <th>33289778</th>\n",
       "      <td>3291548</td>\n",
       "      <td>42</td>\n",
       "      <td>16</td>\n",
       "      <td>0</td>\n",
       "      <td>Biotin 1000 mcg</td>\n",
       "      <td>47</td>\n",
       "      <td>11</td>\n",
       "      <td>False</td>\n",
       "    </tr>\n",
       "    <tr>\n",
       "      <th>33289779</th>\n",
       "      <td>580747</td>\n",
       "      <td>42</td>\n",
       "      <td>17</td>\n",
       "      <td>0</td>\n",
       "      <td>Biotin 1000 mcg</td>\n",
       "      <td>47</td>\n",
       "      <td>11</td>\n",
       "      <td>False</td>\n",
       "    </tr>\n",
       "  </tbody>\n",
       "</table>\n",
       "</div>"
      ],
      "text/plain": [
       "          order_id  product_id  add_to_cart_order  reordered     product_name  \\\n",
       "33289766     57903          42                 21          0  Biotin 1000 mcg   \n",
       "33289767    177189          42                  4          0  Biotin 1000 mcg   \n",
       "33289768    292672          42                  5          0  Biotin 1000 mcg   \n",
       "33289769    611135          42                  7          1  Biotin 1000 mcg   \n",
       "33289770    735753          42                  1          0  Biotin 1000 mcg   \n",
       "33289771    886885          42                  1          0  Biotin 1000 mcg   \n",
       "33289772   1011195          42                  7          0  Biotin 1000 mcg   \n",
       "33289773   1140376          42                  2          0  Biotin 1000 mcg   \n",
       "33289774   1517003          42                 56          0  Biotin 1000 mcg   \n",
       "33289775   1975795          42                  6          0  Biotin 1000 mcg   \n",
       "33289776   2468906          42                  1          0  Biotin 1000 mcg   \n",
       "33289777   3049362          42                  5          0  Biotin 1000 mcg   \n",
       "33289778   3291548          42                 16          0  Biotin 1000 mcg   \n",
       "33289779    580747          42                 17          0  Biotin 1000 mcg   \n",
       "\n",
       "          aisle_id  department_id  is_organic  \n",
       "33289766        47             11       False  \n",
       "33289767        47             11       False  \n",
       "33289768        47             11       False  \n",
       "33289769        47             11       False  \n",
       "33289770        47             11       False  \n",
       "33289771        47             11       False  \n",
       "33289772        47             11       False  \n",
       "33289773        47             11       False  \n",
       "33289774        47             11       False  \n",
       "33289775        47             11       False  \n",
       "33289776        47             11       False  \n",
       "33289777        47             11       False  \n",
       "33289778        47             11       False  \n",
       "33289779        47             11       False  "
      ]
     },
     "execution_count": 18,
     "metadata": {},
     "output_type": "execute_result"
    }
   ],
   "source": [
    "df_new[df_new['product_name']=='Biotin 1000 mcg']"
   ]
  },
  {
   "cell_type": "code",
   "execution_count": 19,
   "id": "fb877d95",
   "metadata": {},
   "outputs": [
    {
     "data": {
      "text/html": [
       "<div>\n",
       "<style scoped>\n",
       "    .dataframe tbody tr th:only-of-type {\n",
       "        vertical-align: middle;\n",
       "    }\n",
       "\n",
       "    .dataframe tbody tr th {\n",
       "        vertical-align: top;\n",
       "    }\n",
       "\n",
       "    .dataframe thead th {\n",
       "        text-align: right;\n",
       "    }\n",
       "</style>\n",
       "<table border=\"1\" class=\"dataframe\">\n",
       "  <thead>\n",
       "    <tr style=\"text-align: right;\">\n",
       "      <th></th>\n",
       "      <th>order_id</th>\n",
       "      <th>product_id</th>\n",
       "      <th>add_to_cart_order</th>\n",
       "      <th>reordered</th>\n",
       "      <th>product_name</th>\n",
       "      <th>aisle_id</th>\n",
       "      <th>department_id</th>\n",
       "      <th>is_organic</th>\n",
       "      <th>aisle</th>\n",
       "    </tr>\n",
       "  </thead>\n",
       "  <tbody>\n",
       "    <tr>\n",
       "      <th>0</th>\n",
       "      <td>2</td>\n",
       "      <td>33120</td>\n",
       "      <td>1</td>\n",
       "      <td>1</td>\n",
       "      <td>Organic Egg Whites</td>\n",
       "      <td>86</td>\n",
       "      <td>16</td>\n",
       "      <td>True</td>\n",
       "      <td>eggs</td>\n",
       "    </tr>\n",
       "    <tr>\n",
       "      <th>1</th>\n",
       "      <td>26</td>\n",
       "      <td>33120</td>\n",
       "      <td>5</td>\n",
       "      <td>0</td>\n",
       "      <td>Organic Egg Whites</td>\n",
       "      <td>86</td>\n",
       "      <td>16</td>\n",
       "      <td>True</td>\n",
       "      <td>eggs</td>\n",
       "    </tr>\n",
       "    <tr>\n",
       "      <th>2</th>\n",
       "      <td>120</td>\n",
       "      <td>33120</td>\n",
       "      <td>13</td>\n",
       "      <td>0</td>\n",
       "      <td>Organic Egg Whites</td>\n",
       "      <td>86</td>\n",
       "      <td>16</td>\n",
       "      <td>True</td>\n",
       "      <td>eggs</td>\n",
       "    </tr>\n",
       "    <tr>\n",
       "      <th>3</th>\n",
       "      <td>327</td>\n",
       "      <td>33120</td>\n",
       "      <td>5</td>\n",
       "      <td>1</td>\n",
       "      <td>Organic Egg Whites</td>\n",
       "      <td>86</td>\n",
       "      <td>16</td>\n",
       "      <td>True</td>\n",
       "      <td>eggs</td>\n",
       "    </tr>\n",
       "    <tr>\n",
       "      <th>4</th>\n",
       "      <td>390</td>\n",
       "      <td>33120</td>\n",
       "      <td>28</td>\n",
       "      <td>1</td>\n",
       "      <td>Organic Egg Whites</td>\n",
       "      <td>86</td>\n",
       "      <td>16</td>\n",
       "      <td>True</td>\n",
       "      <td>eggs</td>\n",
       "    </tr>\n",
       "  </tbody>\n",
       "</table>\n",
       "</div>"
      ],
      "text/plain": [
       "   order_id  product_id  add_to_cart_order  reordered        product_name  \\\n",
       "0         2       33120                  1          1  Organic Egg Whites   \n",
       "1        26       33120                  5          0  Organic Egg Whites   \n",
       "2       120       33120                 13          0  Organic Egg Whites   \n",
       "3       327       33120                  5          1  Organic Egg Whites   \n",
       "4       390       33120                 28          1  Organic Egg Whites   \n",
       "\n",
       "   aisle_id  department_id  is_organic aisle  \n",
       "0        86             16        True  eggs  \n",
       "1        86             16        True  eggs  \n",
       "2        86             16        True  eggs  \n",
       "3        86             16        True  eggs  \n",
       "4        86             16        True  eggs  "
      ]
     },
     "execution_count": 19,
     "metadata": {},
     "output_type": "execute_result"
    }
   ],
   "source": [
    "df_new=df_new.merge(aisles, on = 'aisle_id')\n",
    "df_new.head()"
   ]
  },
  {
   "cell_type": "code",
   "execution_count": 20,
   "id": "4a118efc",
   "metadata": {},
   "outputs": [
    {
     "data": {
      "text/html": [
       "<div>\n",
       "<style scoped>\n",
       "    .dataframe tbody tr th:only-of-type {\n",
       "        vertical-align: middle;\n",
       "    }\n",
       "\n",
       "    .dataframe tbody tr th {\n",
       "        vertical-align: top;\n",
       "    }\n",
       "\n",
       "    .dataframe thead th {\n",
       "        text-align: right;\n",
       "    }\n",
       "</style>\n",
       "<table border=\"1\" class=\"dataframe\">\n",
       "  <thead>\n",
       "    <tr style=\"text-align: right;\">\n",
       "      <th></th>\n",
       "      <th>order_id</th>\n",
       "      <th>product_id</th>\n",
       "      <th>add_to_cart_order</th>\n",
       "      <th>reordered</th>\n",
       "      <th>product_name</th>\n",
       "      <th>aisle_id</th>\n",
       "      <th>department_id</th>\n",
       "      <th>is_organic</th>\n",
       "      <th>aisle</th>\n",
       "      <th>department</th>\n",
       "    </tr>\n",
       "  </thead>\n",
       "  <tbody>\n",
       "    <tr>\n",
       "      <th>0</th>\n",
       "      <td>2</td>\n",
       "      <td>33120</td>\n",
       "      <td>1</td>\n",
       "      <td>1</td>\n",
       "      <td>Organic Egg Whites</td>\n",
       "      <td>86</td>\n",
       "      <td>16</td>\n",
       "      <td>True</td>\n",
       "      <td>eggs</td>\n",
       "      <td>dairy eggs</td>\n",
       "    </tr>\n",
       "    <tr>\n",
       "      <th>1</th>\n",
       "      <td>26</td>\n",
       "      <td>33120</td>\n",
       "      <td>5</td>\n",
       "      <td>0</td>\n",
       "      <td>Organic Egg Whites</td>\n",
       "      <td>86</td>\n",
       "      <td>16</td>\n",
       "      <td>True</td>\n",
       "      <td>eggs</td>\n",
       "      <td>dairy eggs</td>\n",
       "    </tr>\n",
       "    <tr>\n",
       "      <th>2</th>\n",
       "      <td>120</td>\n",
       "      <td>33120</td>\n",
       "      <td>13</td>\n",
       "      <td>0</td>\n",
       "      <td>Organic Egg Whites</td>\n",
       "      <td>86</td>\n",
       "      <td>16</td>\n",
       "      <td>True</td>\n",
       "      <td>eggs</td>\n",
       "      <td>dairy eggs</td>\n",
       "    </tr>\n",
       "    <tr>\n",
       "      <th>3</th>\n",
       "      <td>327</td>\n",
       "      <td>33120</td>\n",
       "      <td>5</td>\n",
       "      <td>1</td>\n",
       "      <td>Organic Egg Whites</td>\n",
       "      <td>86</td>\n",
       "      <td>16</td>\n",
       "      <td>True</td>\n",
       "      <td>eggs</td>\n",
       "      <td>dairy eggs</td>\n",
       "    </tr>\n",
       "    <tr>\n",
       "      <th>4</th>\n",
       "      <td>390</td>\n",
       "      <td>33120</td>\n",
       "      <td>28</td>\n",
       "      <td>1</td>\n",
       "      <td>Organic Egg Whites</td>\n",
       "      <td>86</td>\n",
       "      <td>16</td>\n",
       "      <td>True</td>\n",
       "      <td>eggs</td>\n",
       "      <td>dairy eggs</td>\n",
       "    </tr>\n",
       "  </tbody>\n",
       "</table>\n",
       "</div>"
      ],
      "text/plain": [
       "   order_id  product_id  add_to_cart_order  reordered        product_name  \\\n",
       "0         2       33120                  1          1  Organic Egg Whites   \n",
       "1        26       33120                  5          0  Organic Egg Whites   \n",
       "2       120       33120                 13          0  Organic Egg Whites   \n",
       "3       327       33120                  5          1  Organic Egg Whites   \n",
       "4       390       33120                 28          1  Organic Egg Whites   \n",
       "\n",
       "   aisle_id  department_id  is_organic aisle  department  \n",
       "0        86             16        True  eggs  dairy eggs  \n",
       "1        86             16        True  eggs  dairy eggs  \n",
       "2        86             16        True  eggs  dairy eggs  \n",
       "3        86             16        True  eggs  dairy eggs  \n",
       "4        86             16        True  eggs  dairy eggs  "
      ]
     },
     "execution_count": 20,
     "metadata": {},
     "output_type": "execute_result"
    }
   ],
   "source": [
    "df_new=df_new.merge(departments, on = 'department_id')\n",
    "df_new.head()"
   ]
  },
  {
   "cell_type": "code",
   "execution_count": 21,
   "id": "2cb93295",
   "metadata": {},
   "outputs": [
    {
     "data": {
      "text/html": [
       "<div>\n",
       "<style scoped>\n",
       "    .dataframe tbody tr th:only-of-type {\n",
       "        vertical-align: middle;\n",
       "    }\n",
       "\n",
       "    .dataframe tbody tr th {\n",
       "        vertical-align: top;\n",
       "    }\n",
       "\n",
       "    .dataframe thead th {\n",
       "        text-align: right;\n",
       "    }\n",
       "</style>\n",
       "<table border=\"1\" class=\"dataframe\">\n",
       "  <thead>\n",
       "    <tr style=\"text-align: right;\">\n",
       "      <th></th>\n",
       "      <th>order_id</th>\n",
       "      <th>product_id</th>\n",
       "      <th>add_to_cart_order</th>\n",
       "      <th>reordered</th>\n",
       "      <th>product_name</th>\n",
       "      <th>aisle_id</th>\n",
       "      <th>department_id</th>\n",
       "      <th>is_organic</th>\n",
       "      <th>aisle</th>\n",
       "      <th>department</th>\n",
       "      <th>user_id</th>\n",
       "      <th>eval_set</th>\n",
       "      <th>order_number</th>\n",
       "      <th>order_dow</th>\n",
       "      <th>order_hour_of_day</th>\n",
       "      <th>days_since_prior_order</th>\n",
       "    </tr>\n",
       "  </thead>\n",
       "  <tbody>\n",
       "    <tr>\n",
       "      <th>0</th>\n",
       "      <td>2</td>\n",
       "      <td>33120</td>\n",
       "      <td>1</td>\n",
       "      <td>1</td>\n",
       "      <td>Organic Egg Whites</td>\n",
       "      <td>86</td>\n",
       "      <td>16</td>\n",
       "      <td>True</td>\n",
       "      <td>eggs</td>\n",
       "      <td>dairy eggs</td>\n",
       "      <td>202279</td>\n",
       "      <td>prior</td>\n",
       "      <td>3</td>\n",
       "      <td>5</td>\n",
       "      <td>9</td>\n",
       "      <td>8.0</td>\n",
       "    </tr>\n",
       "    <tr>\n",
       "      <th>1</th>\n",
       "      <td>2</td>\n",
       "      <td>28985</td>\n",
       "      <td>2</td>\n",
       "      <td>1</td>\n",
       "      <td>Michigan Organic Kale</td>\n",
       "      <td>83</td>\n",
       "      <td>4</td>\n",
       "      <td>True</td>\n",
       "      <td>fresh vegetables</td>\n",
       "      <td>produce</td>\n",
       "      <td>202279</td>\n",
       "      <td>prior</td>\n",
       "      <td>3</td>\n",
       "      <td>5</td>\n",
       "      <td>9</td>\n",
       "      <td>8.0</td>\n",
       "    </tr>\n",
       "    <tr>\n",
       "      <th>2</th>\n",
       "      <td>2</td>\n",
       "      <td>17794</td>\n",
       "      <td>6</td>\n",
       "      <td>1</td>\n",
       "      <td>Carrots</td>\n",
       "      <td>83</td>\n",
       "      <td>4</td>\n",
       "      <td>False</td>\n",
       "      <td>fresh vegetables</td>\n",
       "      <td>produce</td>\n",
       "      <td>202279</td>\n",
       "      <td>prior</td>\n",
       "      <td>3</td>\n",
       "      <td>5</td>\n",
       "      <td>9</td>\n",
       "      <td>8.0</td>\n",
       "    </tr>\n",
       "    <tr>\n",
       "      <th>3</th>\n",
       "      <td>2</td>\n",
       "      <td>43668</td>\n",
       "      <td>9</td>\n",
       "      <td>0</td>\n",
       "      <td>Classic Blend Cole Slaw</td>\n",
       "      <td>123</td>\n",
       "      <td>4</td>\n",
       "      <td>False</td>\n",
       "      <td>packaged vegetables fruits</td>\n",
       "      <td>produce</td>\n",
       "      <td>202279</td>\n",
       "      <td>prior</td>\n",
       "      <td>3</td>\n",
       "      <td>5</td>\n",
       "      <td>9</td>\n",
       "      <td>8.0</td>\n",
       "    </tr>\n",
       "    <tr>\n",
       "      <th>4</th>\n",
       "      <td>2</td>\n",
       "      <td>9327</td>\n",
       "      <td>3</td>\n",
       "      <td>0</td>\n",
       "      <td>Garlic Powder</td>\n",
       "      <td>104</td>\n",
       "      <td>13</td>\n",
       "      <td>False</td>\n",
       "      <td>spices seasonings</td>\n",
       "      <td>pantry</td>\n",
       "      <td>202279</td>\n",
       "      <td>prior</td>\n",
       "      <td>3</td>\n",
       "      <td>5</td>\n",
       "      <td>9</td>\n",
       "      <td>8.0</td>\n",
       "    </tr>\n",
       "  </tbody>\n",
       "</table>\n",
       "</div>"
      ],
      "text/plain": [
       "   order_id  product_id  add_to_cart_order  reordered  \\\n",
       "0         2       33120                  1          1   \n",
       "1         2       28985                  2          1   \n",
       "2         2       17794                  6          1   \n",
       "3         2       43668                  9          0   \n",
       "4         2        9327                  3          0   \n",
       "\n",
       "              product_name  aisle_id  department_id  is_organic  \\\n",
       "0       Organic Egg Whites        86             16        True   \n",
       "1    Michigan Organic Kale        83              4        True   \n",
       "2                  Carrots        83              4       False   \n",
       "3  Classic Blend Cole Slaw       123              4       False   \n",
       "4            Garlic Powder       104             13       False   \n",
       "\n",
       "                        aisle  department  user_id eval_set  order_number  \\\n",
       "0                        eggs  dairy eggs   202279    prior             3   \n",
       "1            fresh vegetables     produce   202279    prior             3   \n",
       "2            fresh vegetables     produce   202279    prior             3   \n",
       "3  packaged vegetables fruits     produce   202279    prior             3   \n",
       "4           spices seasonings      pantry   202279    prior             3   \n",
       "\n",
       "   order_dow  order_hour_of_day  days_since_prior_order  \n",
       "0          5                  9                     8.0  \n",
       "1          5                  9                     8.0  \n",
       "2          5                  9                     8.0  \n",
       "3          5                  9                     8.0  \n",
       "4          5                  9                     8.0  "
      ]
     },
     "execution_count": 21,
     "metadata": {},
     "output_type": "execute_result"
    }
   ],
   "source": [
    "df_new=df_new.merge(orders, on = 'order_id')\n",
    "df_new.head()"
   ]
  },
  {
   "cell_type": "code",
   "execution_count": 22,
   "id": "67ead6b6",
   "metadata": {},
   "outputs": [
    {
     "data": {
      "text/plain": [
       "206209"
      ]
     },
     "execution_count": 22,
     "metadata": {},
     "output_type": "execute_result"
    }
   ],
   "source": [
    "df_new['user_id'].max()"
   ]
  },
  {
   "cell_type": "code",
   "execution_count": 23,
   "id": "db4cfeca",
   "metadata": {},
   "outputs": [
    {
     "data": {
      "text/plain": [
       "prior    32434489\n",
       "train     1384617\n",
       "Name: eval_set, dtype: int64"
      ]
     },
     "execution_count": 23,
     "metadata": {},
     "output_type": "execute_result"
    }
   ],
   "source": [
    "df_new['eval_set'].value_counts()"
   ]
  },
  {
   "cell_type": "code",
   "execution_count": 24,
   "id": "da022fc9",
   "metadata": {},
   "outputs": [
    {
     "data": {
      "text/plain": [
       "Index(['order_id', 'product_id', 'add_to_cart_order', 'reordered',\n",
       "       'product_name', 'aisle_id', 'department_id', 'is_organic', 'aisle',\n",
       "       'department', 'user_id', 'eval_set', 'order_number', 'order_dow',\n",
       "       'order_hour_of_day', 'days_since_prior_order'],\n",
       "      dtype='object')"
      ]
     },
     "execution_count": 24,
     "metadata": {},
     "output_type": "execute_result"
    }
   ],
   "source": [
    "df_new.columns"
   ]
  },
  {
   "cell_type": "code",
   "execution_count": 25,
   "id": "73b9bb32",
   "metadata": {},
   "outputs": [
    {
     "data": {
      "text/plain": [
       "(33819106, 16)"
      ]
     },
     "execution_count": 25,
     "metadata": {},
     "output_type": "execute_result"
    }
   ],
   "source": [
    "df_new.shape"
   ]
  },
  {
   "cell_type": "code",
   "execution_count": 26,
   "id": "23641954",
   "metadata": {},
   "outputs": [
    {
     "data": {
      "text/plain": [
       "order_id                        0\n",
       "product_id                      0\n",
       "add_to_cart_order               0\n",
       "reordered                       0\n",
       "product_name                    0\n",
       "aisle_id                        0\n",
       "department_id                   0\n",
       "is_organic                      0\n",
       "aisle                           0\n",
       "department                      0\n",
       "user_id                         0\n",
       "eval_set                        0\n",
       "order_number                    0\n",
       "order_dow                       0\n",
       "order_hour_of_day               0\n",
       "days_since_prior_order    2078068\n",
       "dtype: int64"
      ]
     },
     "execution_count": 26,
     "metadata": {},
     "output_type": "execute_result"
    }
   ],
   "source": [
    "df_new.isna().sum()"
   ]
  },
  {
   "cell_type": "code",
   "execution_count": 27,
   "id": "e8a8a178",
   "metadata": {},
   "outputs": [
    {
     "data": {
      "text/plain": [
       "order_id                    int64\n",
       "product_id                  int64\n",
       "add_to_cart_order           int64\n",
       "reordered                   int64\n",
       "product_name               object\n",
       "aisle_id                    int64\n",
       "department_id               int64\n",
       "is_organic                   bool\n",
       "aisle                      object\n",
       "department                 object\n",
       "user_id                     int64\n",
       "eval_set                   object\n",
       "order_number                int64\n",
       "order_dow                   int64\n",
       "order_hour_of_day           int64\n",
       "days_since_prior_order    float64\n",
       "dtype: object"
      ]
     },
     "execution_count": 27,
     "metadata": {},
     "output_type": "execute_result"
    }
   ],
   "source": [
    "df_new.dtypes"
   ]
  },
  {
   "cell_type": "markdown",
   "id": "249f349a",
   "metadata": {},
   "source": [
    "### After conducting the preceding study, a CSV file for groceries has been created."
   ]
  },
  {
   "cell_type": "code",
   "execution_count": 28,
   "id": "97d96b01",
   "metadata": {},
   "outputs": [],
   "source": [
    "df_new.to_csv(\"data/groceries.csv\")"
   ]
  },
  {
   "cell_type": "code",
   "execution_count": 29,
   "id": "34502a75",
   "metadata": {},
   "outputs": [
    {
     "data": {
      "text/html": [
       "<div>\n",
       "<style scoped>\n",
       "    .dataframe tbody tr th:only-of-type {\n",
       "        vertical-align: middle;\n",
       "    }\n",
       "\n",
       "    .dataframe tbody tr th {\n",
       "        vertical-align: top;\n",
       "    }\n",
       "\n",
       "    .dataframe thead th {\n",
       "        text-align: right;\n",
       "    }\n",
       "</style>\n",
       "<table border=\"1\" class=\"dataframe\">\n",
       "  <thead>\n",
       "    <tr style=\"text-align: right;\">\n",
       "      <th></th>\n",
       "      <th>user_id</th>\n",
       "      <th>order_id</th>\n",
       "      <th>product_id</th>\n",
       "      <th>product_name</th>\n",
       "      <th>aisle_id</th>\n",
       "      <th>aisle</th>\n",
       "      <th>department_id</th>\n",
       "      <th>department</th>\n",
       "      <th>add_to_cart_order</th>\n",
       "    </tr>\n",
       "  </thead>\n",
       "  <tbody>\n",
       "    <tr>\n",
       "      <th>0</th>\n",
       "      <td>202279</td>\n",
       "      <td>2</td>\n",
       "      <td>33120</td>\n",
       "      <td>Organic Egg Whites</td>\n",
       "      <td>86</td>\n",
       "      <td>eggs</td>\n",
       "      <td>16</td>\n",
       "      <td>dairy eggs</td>\n",
       "      <td>1</td>\n",
       "    </tr>\n",
       "    <tr>\n",
       "      <th>1</th>\n",
       "      <td>202279</td>\n",
       "      <td>2</td>\n",
       "      <td>28985</td>\n",
       "      <td>Michigan Organic Kale</td>\n",
       "      <td>83</td>\n",
       "      <td>fresh vegetables</td>\n",
       "      <td>4</td>\n",
       "      <td>produce</td>\n",
       "      <td>2</td>\n",
       "    </tr>\n",
       "    <tr>\n",
       "      <th>2</th>\n",
       "      <td>202279</td>\n",
       "      <td>2</td>\n",
       "      <td>17794</td>\n",
       "      <td>Carrots</td>\n",
       "      <td>83</td>\n",
       "      <td>fresh vegetables</td>\n",
       "      <td>4</td>\n",
       "      <td>produce</td>\n",
       "      <td>6</td>\n",
       "    </tr>\n",
       "    <tr>\n",
       "      <th>3</th>\n",
       "      <td>202279</td>\n",
       "      <td>2</td>\n",
       "      <td>43668</td>\n",
       "      <td>Classic Blend Cole Slaw</td>\n",
       "      <td>123</td>\n",
       "      <td>packaged vegetables fruits</td>\n",
       "      <td>4</td>\n",
       "      <td>produce</td>\n",
       "      <td>9</td>\n",
       "    </tr>\n",
       "    <tr>\n",
       "      <th>4</th>\n",
       "      <td>202279</td>\n",
       "      <td>2</td>\n",
       "      <td>9327</td>\n",
       "      <td>Garlic Powder</td>\n",
       "      <td>104</td>\n",
       "      <td>spices seasonings</td>\n",
       "      <td>13</td>\n",
       "      <td>pantry</td>\n",
       "      <td>3</td>\n",
       "    </tr>\n",
       "  </tbody>\n",
       "</table>\n",
       "</div>"
      ],
      "text/plain": [
       "   user_id  order_id  product_id             product_name  aisle_id  \\\n",
       "0   202279         2       33120       Organic Egg Whites        86   \n",
       "1   202279         2       28985    Michigan Organic Kale        83   \n",
       "2   202279         2       17794                  Carrots        83   \n",
       "3   202279         2       43668  Classic Blend Cole Slaw       123   \n",
       "4   202279         2        9327            Garlic Powder       104   \n",
       "\n",
       "                        aisle  department_id  department  add_to_cart_order  \n",
       "0                        eggs             16  dairy eggs                  1  \n",
       "1            fresh vegetables              4     produce                  2  \n",
       "2            fresh vegetables              4     produce                  6  \n",
       "3  packaged vegetables fruits              4     produce                  9  \n",
       "4           spices seasonings             13      pantry                  3  "
      ]
     },
     "execution_count": 29,
     "metadata": {},
     "output_type": "execute_result"
    }
   ],
   "source": [
    "#From groceries.csv, the final dataframe was created with the necessary columns.\n",
    "all_orders = df_new[['user_id','order_id','product_id','product_name','aisle_id','aisle','department_id','department','add_to_cart_order']]\n",
    "all_orders.head()"
   ]
  },
  {
   "cell_type": "code",
   "execution_count": 30,
   "id": "3ff9f23b",
   "metadata": {},
   "outputs": [
    {
     "data": {
      "text/html": [
       "<div>\n",
       "<style scoped>\n",
       "    .dataframe tbody tr th:only-of-type {\n",
       "        vertical-align: middle;\n",
       "    }\n",
       "\n",
       "    .dataframe tbody tr th {\n",
       "        vertical-align: top;\n",
       "    }\n",
       "\n",
       "    .dataframe thead th {\n",
       "        text-align: right;\n",
       "    }\n",
       "</style>\n",
       "<table border=\"1\" class=\"dataframe\">\n",
       "  <thead>\n",
       "    <tr style=\"text-align: right;\">\n",
       "      <th></th>\n",
       "      <th>user_id</th>\n",
       "      <th>order_id</th>\n",
       "      <th>product_id</th>\n",
       "      <th>product_name</th>\n",
       "      <th>aisle_id</th>\n",
       "      <th>aisle</th>\n",
       "      <th>department_id</th>\n",
       "      <th>department</th>\n",
       "      <th>add_to_cart_order</th>\n",
       "    </tr>\n",
       "  </thead>\n",
       "  <tbody>\n",
       "    <tr>\n",
       "      <th>20481231</th>\n",
       "      <td>125093</td>\n",
       "      <td>418920</td>\n",
       "      <td>27845</td>\n",
       "      <td>Organic Whole Milk</td>\n",
       "      <td>84</td>\n",
       "      <td>milk</td>\n",
       "      <td>16</td>\n",
       "      <td>dairy eggs</td>\n",
       "      <td>3</td>\n",
       "    </tr>\n",
       "    <tr>\n",
       "      <th>20481232</th>\n",
       "      <td>125093</td>\n",
       "      <td>418920</td>\n",
       "      <td>13249</td>\n",
       "      <td>Skim Milk</td>\n",
       "      <td>84</td>\n",
       "      <td>milk</td>\n",
       "      <td>16</td>\n",
       "      <td>dairy eggs</td>\n",
       "      <td>1</td>\n",
       "    </tr>\n",
       "    <tr>\n",
       "      <th>20481233</th>\n",
       "      <td>125093</td>\n",
       "      <td>418920</td>\n",
       "      <td>37973</td>\n",
       "      <td>Apricot-Raspberry Preserves</td>\n",
       "      <td>88</td>\n",
       "      <td>spreads</td>\n",
       "      <td>13</td>\n",
       "      <td>pantry</td>\n",
       "      <td>5</td>\n",
       "    </tr>\n",
       "    <tr>\n",
       "      <th>20481234</th>\n",
       "      <td>125093</td>\n",
       "      <td>418920</td>\n",
       "      <td>23594</td>\n",
       "      <td>Medium Salsa</td>\n",
       "      <td>51</td>\n",
       "      <td>preserved dips spreads</td>\n",
       "      <td>13</td>\n",
       "      <td>pantry</td>\n",
       "      <td>4</td>\n",
       "    </tr>\n",
       "    <tr>\n",
       "      <th>20481235</th>\n",
       "      <td>125093</td>\n",
       "      <td>418920</td>\n",
       "      <td>10603</td>\n",
       "      <td>93% Ground Beef</td>\n",
       "      <td>122</td>\n",
       "      <td>meat counter</td>\n",
       "      <td>12</td>\n",
       "      <td>meat seafood</td>\n",
       "      <td>2</td>\n",
       "    </tr>\n",
       "    <tr>\n",
       "      <th>20481236</th>\n",
       "      <td>125093</td>\n",
       "      <td>418920</td>\n",
       "      <td>34050</td>\n",
       "      <td>Orange Juice</td>\n",
       "      <td>31</td>\n",
       "      <td>refrigerated</td>\n",
       "      <td>7</td>\n",
       "      <td>beverages</td>\n",
       "      <td>6</td>\n",
       "    </tr>\n",
       "    <tr>\n",
       "      <th>20485176</th>\n",
       "      <td>125093</td>\n",
       "      <td>440736</td>\n",
       "      <td>27845</td>\n",
       "      <td>Organic Whole Milk</td>\n",
       "      <td>84</td>\n",
       "      <td>milk</td>\n",
       "      <td>16</td>\n",
       "      <td>dairy eggs</td>\n",
       "      <td>1</td>\n",
       "    </tr>\n",
       "    <tr>\n",
       "      <th>20485177</th>\n",
       "      <td>125093</td>\n",
       "      <td>440736</td>\n",
       "      <td>117</td>\n",
       "      <td>Petit Suisse Fruit</td>\n",
       "      <td>2</td>\n",
       "      <td>specialty cheeses</td>\n",
       "      <td>16</td>\n",
       "      <td>dairy eggs</td>\n",
       "      <td>2</td>\n",
       "    </tr>\n",
       "    <tr>\n",
       "      <th>20485178</th>\n",
       "      <td>125093</td>\n",
       "      <td>440736</td>\n",
       "      <td>10603</td>\n",
       "      <td>93% Ground Beef</td>\n",
       "      <td>122</td>\n",
       "      <td>meat counter</td>\n",
       "      <td>12</td>\n",
       "      <td>meat seafood</td>\n",
       "      <td>4</td>\n",
       "    </tr>\n",
       "    <tr>\n",
       "      <th>20485179</th>\n",
       "      <td>125093</td>\n",
       "      <td>440736</td>\n",
       "      <td>28597</td>\n",
       "      <td>Organic Stoneground Wheat Crackers</td>\n",
       "      <td>78</td>\n",
       "      <td>crackers</td>\n",
       "      <td>19</td>\n",
       "      <td>snacks</td>\n",
       "      <td>5</td>\n",
       "    </tr>\n",
       "    <tr>\n",
       "      <th>20485180</th>\n",
       "      <td>125093</td>\n",
       "      <td>440736</td>\n",
       "      <td>3835</td>\n",
       "      <td>Coconut Water, Pure Organic</td>\n",
       "      <td>98</td>\n",
       "      <td>juice nectars</td>\n",
       "      <td>7</td>\n",
       "      <td>beverages</td>\n",
       "      <td>3</td>\n",
       "    </tr>\n",
       "    <tr>\n",
       "      <th>21340319</th>\n",
       "      <td>125093</td>\n",
       "      <td>1692452</td>\n",
       "      <td>13249</td>\n",
       "      <td>Skim Milk</td>\n",
       "      <td>84</td>\n",
       "      <td>milk</td>\n",
       "      <td>16</td>\n",
       "      <td>dairy eggs</td>\n",
       "      <td>1</td>\n",
       "    </tr>\n",
       "    <tr>\n",
       "      <th>21340320</th>\n",
       "      <td>125093</td>\n",
       "      <td>1692452</td>\n",
       "      <td>30391</td>\n",
       "      <td>Organic Cucumber</td>\n",
       "      <td>83</td>\n",
       "      <td>fresh vegetables</td>\n",
       "      <td>4</td>\n",
       "      <td>produce</td>\n",
       "      <td>8</td>\n",
       "    </tr>\n",
       "    <tr>\n",
       "      <th>21340321</th>\n",
       "      <td>125093</td>\n",
       "      <td>1692452</td>\n",
       "      <td>24852</td>\n",
       "      <td>Banana</td>\n",
       "      <td>24</td>\n",
       "      <td>fresh fruits</td>\n",
       "      <td>4</td>\n",
       "      <td>produce</td>\n",
       "      <td>2</td>\n",
       "    </tr>\n",
       "    <tr>\n",
       "      <th>21340322</th>\n",
       "      <td>125093</td>\n",
       "      <td>1692452</td>\n",
       "      <td>23594</td>\n",
       "      <td>Medium Salsa</td>\n",
       "      <td>51</td>\n",
       "      <td>preserved dips spreads</td>\n",
       "      <td>13</td>\n",
       "      <td>pantry</td>\n",
       "      <td>7</td>\n",
       "    </tr>\n",
       "    <tr>\n",
       "      <th>21340323</th>\n",
       "      <td>125093</td>\n",
       "      <td>1692452</td>\n",
       "      <td>11744</td>\n",
       "      <td>Macrobar Cherries N Berries</td>\n",
       "      <td>3</td>\n",
       "      <td>energy granola bars</td>\n",
       "      <td>19</td>\n",
       "      <td>snacks</td>\n",
       "      <td>5</td>\n",
       "    </tr>\n",
       "    <tr>\n",
       "      <th>21340324</th>\n",
       "      <td>125093</td>\n",
       "      <td>1692452</td>\n",
       "      <td>33198</td>\n",
       "      <td>Sparkling Natural Mineral Water</td>\n",
       "      <td>115</td>\n",
       "      <td>water seltzer sparkling water</td>\n",
       "      <td>7</td>\n",
       "      <td>beverages</td>\n",
       "      <td>3</td>\n",
       "    </tr>\n",
       "    <tr>\n",
       "      <th>21340325</th>\n",
       "      <td>125093</td>\n",
       "      <td>1692452</td>\n",
       "      <td>23043</td>\n",
       "      <td>Smartwater® Vapor Distilled Water</td>\n",
       "      <td>115</td>\n",
       "      <td>water seltzer sparkling water</td>\n",
       "      <td>7</td>\n",
       "      <td>beverages</td>\n",
       "      <td>4</td>\n",
       "    </tr>\n",
       "    <tr>\n",
       "      <th>21340326</th>\n",
       "      <td>125093</td>\n",
       "      <td>1692452</td>\n",
       "      <td>28849</td>\n",
       "      <td>No Salt Added Black Beans</td>\n",
       "      <td>59</td>\n",
       "      <td>canned meals beans</td>\n",
       "      <td>15</td>\n",
       "      <td>canned goods</td>\n",
       "      <td>6</td>\n",
       "    </tr>\n",
       "    <tr>\n",
       "      <th>30022944</th>\n",
       "      <td>125093</td>\n",
       "      <td>2654654</td>\n",
       "      <td>8424</td>\n",
       "      <td>Broccoli Crown</td>\n",
       "      <td>83</td>\n",
       "      <td>fresh vegetables</td>\n",
       "      <td>4</td>\n",
       "      <td>produce</td>\n",
       "      <td>3</td>\n",
       "    </tr>\n",
       "    <tr>\n",
       "      <th>30022945</th>\n",
       "      <td>125093</td>\n",
       "      <td>2654654</td>\n",
       "      <td>21903</td>\n",
       "      <td>Organic Baby Spinach</td>\n",
       "      <td>123</td>\n",
       "      <td>packaged vegetables fruits</td>\n",
       "      <td>4</td>\n",
       "      <td>produce</td>\n",
       "      <td>4</td>\n",
       "    </tr>\n",
       "    <tr>\n",
       "      <th>30022946</th>\n",
       "      <td>125093</td>\n",
       "      <td>2654654</td>\n",
       "      <td>35898</td>\n",
       "      <td>Original Hot Sauce</td>\n",
       "      <td>72</td>\n",
       "      <td>condiments</td>\n",
       "      <td>13</td>\n",
       "      <td>pantry</td>\n",
       "      <td>2</td>\n",
       "    </tr>\n",
       "    <tr>\n",
       "      <th>30022947</th>\n",
       "      <td>125093</td>\n",
       "      <td>2654654</td>\n",
       "      <td>44098</td>\n",
       "      <td>Appley Ever After Organic Juice Drink</td>\n",
       "      <td>98</td>\n",
       "      <td>juice nectars</td>\n",
       "      <td>7</td>\n",
       "      <td>beverages</td>\n",
       "      <td>1</td>\n",
       "    </tr>\n",
       "    <tr>\n",
       "      <th>30022948</th>\n",
       "      <td>125093</td>\n",
       "      <td>2654654</td>\n",
       "      <td>22509</td>\n",
       "      <td>Muenster Cheese</td>\n",
       "      <td>13</td>\n",
       "      <td>prepared meals</td>\n",
       "      <td>20</td>\n",
       "      <td>deli</td>\n",
       "      <td>5</td>\n",
       "    </tr>\n",
       "    <tr>\n",
       "      <th>32741026</th>\n",
       "      <td>125093</td>\n",
       "      <td>2112938</td>\n",
       "      <td>16198</td>\n",
       "      <td>Natural Uncured Turkey Hot Dog</td>\n",
       "      <td>106</td>\n",
       "      <td>hot dogs bacon sausage</td>\n",
       "      <td>12</td>\n",
       "      <td>meat seafood</td>\n",
       "      <td>3</td>\n",
       "    </tr>\n",
       "    <tr>\n",
       "      <th>32741027</th>\n",
       "      <td>125093</td>\n",
       "      <td>2112938</td>\n",
       "      <td>13517</td>\n",
       "      <td>Whole Wheat Bread</td>\n",
       "      <td>112</td>\n",
       "      <td>bread</td>\n",
       "      <td>3</td>\n",
       "      <td>bakery</td>\n",
       "      <td>1</td>\n",
       "    </tr>\n",
       "    <tr>\n",
       "      <th>32741028</th>\n",
       "      <td>125093</td>\n",
       "      <td>2112938</td>\n",
       "      <td>34050</td>\n",
       "      <td>Orange Juice</td>\n",
       "      <td>31</td>\n",
       "      <td>refrigerated</td>\n",
       "      <td>7</td>\n",
       "      <td>beverages</td>\n",
       "      <td>2</td>\n",
       "    </tr>\n",
       "    <tr>\n",
       "      <th>32741029</th>\n",
       "      <td>125093</td>\n",
       "      <td>2112938</td>\n",
       "      <td>12144</td>\n",
       "      <td>Gluten-Free Chicken Nuggets</td>\n",
       "      <td>34</td>\n",
       "      <td>frozen meat seafood</td>\n",
       "      <td>1</td>\n",
       "      <td>frozen</td>\n",
       "      <td>4</td>\n",
       "    </tr>\n",
       "    <tr>\n",
       "      <th>33467901</th>\n",
       "      <td>125093</td>\n",
       "      <td>3311213</td>\n",
       "      <td>8087</td>\n",
       "      <td>Florida Orange Juice With Calcium &amp; Vitamin D</td>\n",
       "      <td>31</td>\n",
       "      <td>refrigerated</td>\n",
       "      <td>7</td>\n",
       "      <td>beverages</td>\n",
       "      <td>5</td>\n",
       "    </tr>\n",
       "    <tr>\n",
       "      <th>33467902</th>\n",
       "      <td>125093</td>\n",
       "      <td>3311213</td>\n",
       "      <td>29603</td>\n",
       "      <td>Pink Virgin Lemonade</td>\n",
       "      <td>31</td>\n",
       "      <td>refrigerated</td>\n",
       "      <td>7</td>\n",
       "      <td>beverages</td>\n",
       "      <td>3</td>\n",
       "    </tr>\n",
       "    <tr>\n",
       "      <th>33467903</th>\n",
       "      <td>125093</td>\n",
       "      <td>3311213</td>\n",
       "      <td>23043</td>\n",
       "      <td>Smartwater® Vapor Distilled Water</td>\n",
       "      <td>115</td>\n",
       "      <td>water seltzer sparkling water</td>\n",
       "      <td>7</td>\n",
       "      <td>beverages</td>\n",
       "      <td>1</td>\n",
       "    </tr>\n",
       "    <tr>\n",
       "      <th>33467904</th>\n",
       "      <td>125093</td>\n",
       "      <td>3311213</td>\n",
       "      <td>13113</td>\n",
       "      <td>Organic Apple Juice Boxes</td>\n",
       "      <td>98</td>\n",
       "      <td>juice nectars</td>\n",
       "      <td>7</td>\n",
       "      <td>beverages</td>\n",
       "      <td>4</td>\n",
       "    </tr>\n",
       "    <tr>\n",
       "      <th>33467905</th>\n",
       "      <td>125093</td>\n",
       "      <td>3311213</td>\n",
       "      <td>5383</td>\n",
       "      <td>Organic Capellini</td>\n",
       "      <td>131</td>\n",
       "      <td>dry pasta</td>\n",
       "      <td>9</td>\n",
       "      <td>dry goods pasta</td>\n",
       "      <td>6</td>\n",
       "    </tr>\n",
       "    <tr>\n",
       "      <th>33467906</th>\n",
       "      <td>125093</td>\n",
       "      <td>3311213</td>\n",
       "      <td>9505</td>\n",
       "      <td>Organic Original Rice Pilaf</td>\n",
       "      <td>63</td>\n",
       "      <td>grains rice dried goods</td>\n",
       "      <td>9</td>\n",
       "      <td>dry goods pasta</td>\n",
       "      <td>2</td>\n",
       "    </tr>\n",
       "    <tr>\n",
       "      <th>33467907</th>\n",
       "      <td>125093</td>\n",
       "      <td>3311213</td>\n",
       "      <td>32433</td>\n",
       "      <td>Green Peas</td>\n",
       "      <td>116</td>\n",
       "      <td>frozen produce</td>\n",
       "      <td>1</td>\n",
       "      <td>frozen</td>\n",
       "      <td>7</td>\n",
       "    </tr>\n",
       "  </tbody>\n",
       "</table>\n",
       "</div>"
      ],
      "text/plain": [
       "          user_id  order_id  product_id  \\\n",
       "20481231   125093    418920       27845   \n",
       "20481232   125093    418920       13249   \n",
       "20481233   125093    418920       37973   \n",
       "20481234   125093    418920       23594   \n",
       "20481235   125093    418920       10603   \n",
       "20481236   125093    418920       34050   \n",
       "20485176   125093    440736       27845   \n",
       "20485177   125093    440736         117   \n",
       "20485178   125093    440736       10603   \n",
       "20485179   125093    440736       28597   \n",
       "20485180   125093    440736        3835   \n",
       "21340319   125093   1692452       13249   \n",
       "21340320   125093   1692452       30391   \n",
       "21340321   125093   1692452       24852   \n",
       "21340322   125093   1692452       23594   \n",
       "21340323   125093   1692452       11744   \n",
       "21340324   125093   1692452       33198   \n",
       "21340325   125093   1692452       23043   \n",
       "21340326   125093   1692452       28849   \n",
       "30022944   125093   2654654        8424   \n",
       "30022945   125093   2654654       21903   \n",
       "30022946   125093   2654654       35898   \n",
       "30022947   125093   2654654       44098   \n",
       "30022948   125093   2654654       22509   \n",
       "32741026   125093   2112938       16198   \n",
       "32741027   125093   2112938       13517   \n",
       "32741028   125093   2112938       34050   \n",
       "32741029   125093   2112938       12144   \n",
       "33467901   125093   3311213        8087   \n",
       "33467902   125093   3311213       29603   \n",
       "33467903   125093   3311213       23043   \n",
       "33467904   125093   3311213       13113   \n",
       "33467905   125093   3311213        5383   \n",
       "33467906   125093   3311213        9505   \n",
       "33467907   125093   3311213       32433   \n",
       "\n",
       "                                           product_name  aisle_id  \\\n",
       "20481231                             Organic Whole Milk        84   \n",
       "20481232                                      Skim Milk        84   \n",
       "20481233                    Apricot-Raspberry Preserves        88   \n",
       "20481234                                   Medium Salsa        51   \n",
       "20481235                                93% Ground Beef       122   \n",
       "20481236                                   Orange Juice        31   \n",
       "20485176                             Organic Whole Milk        84   \n",
       "20485177                             Petit Suisse Fruit         2   \n",
       "20485178                                93% Ground Beef       122   \n",
       "20485179             Organic Stoneground Wheat Crackers        78   \n",
       "20485180                    Coconut Water, Pure Organic        98   \n",
       "21340319                                      Skim Milk        84   \n",
       "21340320                               Organic Cucumber        83   \n",
       "21340321                                         Banana        24   \n",
       "21340322                                   Medium Salsa        51   \n",
       "21340323                    Macrobar Cherries N Berries         3   \n",
       "21340324                Sparkling Natural Mineral Water       115   \n",
       "21340325              Smartwater® Vapor Distilled Water       115   \n",
       "21340326                      No Salt Added Black Beans        59   \n",
       "30022944                                 Broccoli Crown        83   \n",
       "30022945                           Organic Baby Spinach       123   \n",
       "30022946                             Original Hot Sauce        72   \n",
       "30022947          Appley Ever After Organic Juice Drink        98   \n",
       "30022948                                Muenster Cheese        13   \n",
       "32741026                 Natural Uncured Turkey Hot Dog       106   \n",
       "32741027                              Whole Wheat Bread       112   \n",
       "32741028                                   Orange Juice        31   \n",
       "32741029                    Gluten-Free Chicken Nuggets        34   \n",
       "33467901  Florida Orange Juice With Calcium & Vitamin D        31   \n",
       "33467902                           Pink Virgin Lemonade        31   \n",
       "33467903              Smartwater® Vapor Distilled Water       115   \n",
       "33467904                      Organic Apple Juice Boxes        98   \n",
       "33467905                              Organic Capellini       131   \n",
       "33467906                    Organic Original Rice Pilaf        63   \n",
       "33467907                                     Green Peas       116   \n",
       "\n",
       "                                  aisle  department_id       department  \\\n",
       "20481231                           milk             16       dairy eggs   \n",
       "20481232                           milk             16       dairy eggs   \n",
       "20481233                        spreads             13           pantry   \n",
       "20481234         preserved dips spreads             13           pantry   \n",
       "20481235                   meat counter             12     meat seafood   \n",
       "20481236                   refrigerated              7        beverages   \n",
       "20485176                           milk             16       dairy eggs   \n",
       "20485177              specialty cheeses             16       dairy eggs   \n",
       "20485178                   meat counter             12     meat seafood   \n",
       "20485179                       crackers             19           snacks   \n",
       "20485180                  juice nectars              7        beverages   \n",
       "21340319                           milk             16       dairy eggs   \n",
       "21340320               fresh vegetables              4          produce   \n",
       "21340321                   fresh fruits              4          produce   \n",
       "21340322         preserved dips spreads             13           pantry   \n",
       "21340323            energy granola bars             19           snacks   \n",
       "21340324  water seltzer sparkling water              7        beverages   \n",
       "21340325  water seltzer sparkling water              7        beverages   \n",
       "21340326             canned meals beans             15     canned goods   \n",
       "30022944               fresh vegetables              4          produce   \n",
       "30022945     packaged vegetables fruits              4          produce   \n",
       "30022946                     condiments             13           pantry   \n",
       "30022947                  juice nectars              7        beverages   \n",
       "30022948                 prepared meals             20             deli   \n",
       "32741026         hot dogs bacon sausage             12     meat seafood   \n",
       "32741027                          bread              3           bakery   \n",
       "32741028                   refrigerated              7        beverages   \n",
       "32741029            frozen meat seafood              1           frozen   \n",
       "33467901                   refrigerated              7        beverages   \n",
       "33467902                   refrigerated              7        beverages   \n",
       "33467903  water seltzer sparkling water              7        beverages   \n",
       "33467904                  juice nectars              7        beverages   \n",
       "33467905                      dry pasta              9  dry goods pasta   \n",
       "33467906        grains rice dried goods              9  dry goods pasta   \n",
       "33467907                 frozen produce              1           frozen   \n",
       "\n",
       "          add_to_cart_order  \n",
       "20481231                  3  \n",
       "20481232                  1  \n",
       "20481233                  5  \n",
       "20481234                  4  \n",
       "20481235                  2  \n",
       "20481236                  6  \n",
       "20485176                  1  \n",
       "20485177                  2  \n",
       "20485178                  4  \n",
       "20485179                  5  \n",
       "20485180                  3  \n",
       "21340319                  1  \n",
       "21340320                  8  \n",
       "21340321                  2  \n",
       "21340322                  7  \n",
       "21340323                  5  \n",
       "21340324                  3  \n",
       "21340325                  4  \n",
       "21340326                  6  \n",
       "30022944                  3  \n",
       "30022945                  4  \n",
       "30022946                  2  \n",
       "30022947                  1  \n",
       "30022948                  5  \n",
       "32741026                  3  \n",
       "32741027                  1  \n",
       "32741028                  2  \n",
       "32741029                  4  \n",
       "33467901                  5  \n",
       "33467902                  3  \n",
       "33467903                  1  \n",
       "33467904                  4  \n",
       "33467905                  6  \n",
       "33467906                  2  \n",
       "33467907                  7  "
      ]
     },
     "execution_count": 30,
     "metadata": {},
     "output_type": "execute_result"
    }
   ],
   "source": [
    "#We have examined how many orders a user has placed based on user ID.\n",
    "all_orders[all_orders['user_id']==125093]"
   ]
  },
  {
   "cell_type": "code",
   "execution_count": 31,
   "id": "020332fd",
   "metadata": {},
   "outputs": [
    {
     "data": {
      "text/html": [
       "<div>\n",
       "<style scoped>\n",
       "    .dataframe tbody tr th:only-of-type {\n",
       "        vertical-align: middle;\n",
       "    }\n",
       "\n",
       "    .dataframe tbody tr th {\n",
       "        vertical-align: top;\n",
       "    }\n",
       "\n",
       "    .dataframe thead th {\n",
       "        text-align: right;\n",
       "    }\n",
       "</style>\n",
       "<table border=\"1\" class=\"dataframe\">\n",
       "  <thead>\n",
       "    <tr style=\"text-align: right;\">\n",
       "      <th></th>\n",
       "      <th>user_id</th>\n",
       "      <th>order_id</th>\n",
       "      <th>product_id</th>\n",
       "      <th>product_name</th>\n",
       "      <th>aisle_id</th>\n",
       "      <th>aisle</th>\n",
       "      <th>department_id</th>\n",
       "      <th>department</th>\n",
       "      <th>add_to_cart_order</th>\n",
       "    </tr>\n",
       "  </thead>\n",
       "  <tbody>\n",
       "    <tr>\n",
       "      <th>0</th>\n",
       "      <td>202279</td>\n",
       "      <td>2</td>\n",
       "      <td>33120</td>\n",
       "      <td>Organic Egg Whites</td>\n",
       "      <td>86</td>\n",
       "      <td>eggs</td>\n",
       "      <td>16</td>\n",
       "      <td>dairy eggs</td>\n",
       "      <td>1</td>\n",
       "    </tr>\n",
       "    <tr>\n",
       "      <th>1</th>\n",
       "      <td>202279</td>\n",
       "      <td>2</td>\n",
       "      <td>28985</td>\n",
       "      <td>Michigan Organic Kale</td>\n",
       "      <td>83</td>\n",
       "      <td>fresh vegetables</td>\n",
       "      <td>4</td>\n",
       "      <td>produce</td>\n",
       "      <td>2</td>\n",
       "    </tr>\n",
       "    <tr>\n",
       "      <th>2</th>\n",
       "      <td>202279</td>\n",
       "      <td>2</td>\n",
       "      <td>17794</td>\n",
       "      <td>Carrots</td>\n",
       "      <td>83</td>\n",
       "      <td>fresh vegetables</td>\n",
       "      <td>4</td>\n",
       "      <td>produce</td>\n",
       "      <td>6</td>\n",
       "    </tr>\n",
       "    <tr>\n",
       "      <th>3</th>\n",
       "      <td>202279</td>\n",
       "      <td>2</td>\n",
       "      <td>43668</td>\n",
       "      <td>Classic Blend Cole Slaw</td>\n",
       "      <td>123</td>\n",
       "      <td>packaged vegetables fruits</td>\n",
       "      <td>4</td>\n",
       "      <td>produce</td>\n",
       "      <td>9</td>\n",
       "    </tr>\n",
       "    <tr>\n",
       "      <th>4</th>\n",
       "      <td>202279</td>\n",
       "      <td>2</td>\n",
       "      <td>9327</td>\n",
       "      <td>Garlic Powder</td>\n",
       "      <td>104</td>\n",
       "      <td>spices seasonings</td>\n",
       "      <td>13</td>\n",
       "      <td>pantry</td>\n",
       "      <td>3</td>\n",
       "    </tr>\n",
       "    <tr>\n",
       "      <th>...</th>\n",
       "      <td>...</td>\n",
       "      <td>...</td>\n",
       "      <td>...</td>\n",
       "      <td>...</td>\n",
       "      <td>...</td>\n",
       "      <td>...</td>\n",
       "      <td>...</td>\n",
       "      <td>...</td>\n",
       "      <td>...</td>\n",
       "    </tr>\n",
       "    <tr>\n",
       "      <th>33819101</th>\n",
       "      <td>27208</td>\n",
       "      <td>1015358</td>\n",
       "      <td>46477</td>\n",
       "      <td>100% Pure Peppermint Oil</td>\n",
       "      <td>6</td>\n",
       "      <td>other</td>\n",
       "      <td>2</td>\n",
       "      <td>other</td>\n",
       "      <td>1</td>\n",
       "    </tr>\n",
       "    <tr>\n",
       "      <th>33819102</th>\n",
       "      <td>17880</td>\n",
       "      <td>647259</td>\n",
       "      <td>36631</td>\n",
       "      <td>Soothing Relief Diaper Rash Cream</td>\n",
       "      <td>6</td>\n",
       "      <td>other</td>\n",
       "      <td>2</td>\n",
       "      <td>other</td>\n",
       "      <td>1</td>\n",
       "    </tr>\n",
       "    <tr>\n",
       "      <th>33819103</th>\n",
       "      <td>62266</td>\n",
       "      <td>2010951</td>\n",
       "      <td>16161</td>\n",
       "      <td>SystemSupport Liver Cleanse Capsules</td>\n",
       "      <td>6</td>\n",
       "      <td>other</td>\n",
       "      <td>2</td>\n",
       "      <td>other</td>\n",
       "      <td>1</td>\n",
       "    </tr>\n",
       "    <tr>\n",
       "      <th>33819104</th>\n",
       "      <td>69235</td>\n",
       "      <td>2684414</td>\n",
       "      <td>1013</td>\n",
       "      <td>Poly-Vi-Sol® Infants And Toddlers Multivitamin...</td>\n",
       "      <td>6</td>\n",
       "      <td>other</td>\n",
       "      <td>2</td>\n",
       "      <td>other</td>\n",
       "      <td>1</td>\n",
       "    </tr>\n",
       "    <tr>\n",
       "      <th>33819105</th>\n",
       "      <td>132609</td>\n",
       "      <td>3326955</td>\n",
       "      <td>46404</td>\n",
       "      <td>Cotes De Provence Rose</td>\n",
       "      <td>6</td>\n",
       "      <td>other</td>\n",
       "      <td>2</td>\n",
       "      <td>other</td>\n",
       "      <td>1</td>\n",
       "    </tr>\n",
       "  </tbody>\n",
       "</table>\n",
       "<p>33819106 rows × 9 columns</p>\n",
       "</div>"
      ],
      "text/plain": [
       "          user_id  order_id  product_id  \\\n",
       "0          202279         2       33120   \n",
       "1          202279         2       28985   \n",
       "2          202279         2       17794   \n",
       "3          202279         2       43668   \n",
       "4          202279         2        9327   \n",
       "...           ...       ...         ...   \n",
       "33819101    27208   1015358       46477   \n",
       "33819102    17880    647259       36631   \n",
       "33819103    62266   2010951       16161   \n",
       "33819104    69235   2684414        1013   \n",
       "33819105   132609   3326955       46404   \n",
       "\n",
       "                                               product_name  aisle_id  \\\n",
       "0                                        Organic Egg Whites        86   \n",
       "1                                     Michigan Organic Kale        83   \n",
       "2                                                   Carrots        83   \n",
       "3                                   Classic Blend Cole Slaw       123   \n",
       "4                                             Garlic Powder       104   \n",
       "...                                                     ...       ...   \n",
       "33819101                           100% Pure Peppermint Oil         6   \n",
       "33819102                  Soothing Relief Diaper Rash Cream         6   \n",
       "33819103               SystemSupport Liver Cleanse Capsules         6   \n",
       "33819104  Poly-Vi-Sol® Infants And Toddlers Multivitamin...         6   \n",
       "33819105                             Cotes De Provence Rose         6   \n",
       "\n",
       "                               aisle  department_id  department  \\\n",
       "0                               eggs             16  dairy eggs   \n",
       "1                   fresh vegetables              4     produce   \n",
       "2                   fresh vegetables              4     produce   \n",
       "3         packaged vegetables fruits              4     produce   \n",
       "4                  spices seasonings             13      pantry   \n",
       "...                              ...            ...         ...   \n",
       "33819101                       other              2       other   \n",
       "33819102                       other              2       other   \n",
       "33819103                       other              2       other   \n",
       "33819104                       other              2       other   \n",
       "33819105                       other              2       other   \n",
       "\n",
       "          add_to_cart_order  \n",
       "0                         1  \n",
       "1                         2  \n",
       "2                         6  \n",
       "3                         9  \n",
       "4                         3  \n",
       "...                     ...  \n",
       "33819101                  1  \n",
       "33819102                  1  \n",
       "33819103                  1  \n",
       "33819104                  1  \n",
       "33819105                  1  \n",
       "\n",
       "[33819106 rows x 9 columns]"
      ]
     },
     "execution_count": 31,
     "metadata": {},
     "output_type": "execute_result"
    }
   ],
   "source": [
    "all_orders"
   ]
  },
  {
   "cell_type": "markdown",
   "id": "f24208d6",
   "metadata": {},
   "source": [
    "### From the above data I have gathered few details like:\n",
    "\n",
    "- how many customers in the data?\n",
    "\n",
    "- how many orders placed?\n",
    "\n",
    "- how many aisles involved?\n",
    "\n",
    "- how many products ordered?"
   ]
  },
  {
   "cell_type": "code",
   "execution_count": 32,
   "id": "9fdcc105",
   "metadata": {},
   "outputs": [
    {
     "name": "stdout",
     "output_type": "stream",
     "text": [
      "206209 customers\n",
      "3346083 orders\n",
      "134 aisles\n",
      "49685 products\n"
     ]
    }
   ],
   "source": [
    "#simple description of the data.\n",
    "print(str(len(all_orders.user_id.unique())) +' customers')\n",
    "print(str(len(all_orders.order_id.unique())) +' orders')\n",
    "print(str(len(all_orders.aisle_id.unique())) +' aisles')\n",
    "print(str(len(all_orders.product_id.unique())) +' products')"
   ]
  },
  {
   "cell_type": "code",
   "execution_count": 33,
   "id": "0fc7eb71",
   "metadata": {},
   "outputs": [
    {
     "data": {
      "text/plain": [
       "count    206209.000000\n",
       "mean         16.226658\n",
       "std          16.662238\n",
       "min           3.000000\n",
       "25%           6.000000\n",
       "50%          10.000000\n",
       "75%          20.000000\n",
       "max         100.000000\n",
       "Name: order_id, dtype: float64"
      ]
     },
     "execution_count": 33,
     "metadata": {},
     "output_type": "execute_result"
    }
   ],
   "source": [
    "all_orders.groupby('user_id')['order_id'].nunique().describe()"
   ]
  },
  {
   "cell_type": "code",
   "execution_count": 34,
   "id": "22cce9d3",
   "metadata": {},
   "outputs": [
    {
     "data": {
      "text/plain": [
       "Index(['order_id', 'product_id', 'add_to_cart_order', 'reordered',\n",
       "       'product_name', 'aisle_id', 'department_id', 'is_organic', 'aisle',\n",
       "       'department', 'user_id', 'eval_set', 'order_number', 'order_dow',\n",
       "       'order_hour_of_day', 'days_since_prior_order'],\n",
       "      dtype='object')"
      ]
     },
     "execution_count": 34,
     "metadata": {},
     "output_type": "execute_result"
    }
   ],
   "source": [
    "df_new.columns"
   ]
  },
  {
   "cell_type": "markdown",
   "id": "daea003c",
   "metadata": {},
   "source": [
    "### Effects of time on purchase decisions\n",
    "How does time impact how customers behave while making purchases?\n",
    "\n",
    "- The majority of orders are placed on Days 0 and 1.\n",
    "- Most orders are placed between the hours of 9:00 AM and 4:00 PM.\n",
    "- Saturday afternoon (1:00 PM) and Sunday morning are the busiest times for orders (10:00AM)\n",
    "- People often purchase previously purchased goods between 6:00AM and 8:00AM by more than 65%.\n",
    "- Most consumers place orders seven days following their previous purchase. or within a month after their most recent purchase.\n",
    "- The likelihood of placing another order within the same month is low when a week has passed since the last one.\n",
    "- To catch the high likelihood that a client will place their next order, send reminders of the goods that were most likely ordered within a week.\n",
    "- The probability that the subsequent order will be placed within ten days of the present order is greater."
   ]
  },
  {
   "cell_type": "markdown",
   "id": "e5741bf2",
   "metadata": {},
   "source": [
    "### Which day of the week receives the most orders?\n",
    "\n",
    "According to the graph below, Sunday appears to be the day on which most orders are placed. As people stock up for the week, this is to be anticipated. The day with the most orders is Monday. "
   ]
  },
  {
   "cell_type": "code",
   "execution_count": 35,
   "id": "b1b17d3a",
   "metadata": {},
   "outputs": [
    {
     "data": {
      "image/png": "[encoded data removed]",
      "text/plain": [
       "<Figure size 792x504 with 1 Axes>"
      ]
     },
     "metadata": {
      "needs_background": "light"
     },
     "output_type": "display_data"
    }
   ],
   "source": [
    "plt.figure(figsize=(11,7))\n",
    "ticks={'0':'Sunday','1':'Monday','2':'Tuesday','3':'Wednesday','4':'Thursday','5':'Friday','6':'Saturday'}\n",
    "x = sns.barplot(data = df_new.groupby('order_dow')['add_to_cart_order'].sum().sort_values(ascending = False).reset_index()[0:30], x = 'order_dow', y = 'add_to_cart_order')\n",
    "x.set_xticklabels(ticks.values(), rotation = 90)\n",
    "x.set_title('how day of week affect purchases?')\n",
    "x.set(xlabel = 'order_dow', ylabel = 'Units Ordered')\n",
    "plt.show()"
   ]
  },
  {
   "cell_type": "markdown",
   "id": "5e264936",
   "metadata": {},
   "source": [
    "### Which time of the day receives the most orders?\n",
    "\n",
    "The majority of orders, as seen here, are placed between the hours of 10 am and 4 pm. It is anticipated that more orders will be placed during the day."
   ]
  },
  {
   "cell_type": "code",
   "execution_count": 103,
   "id": "0c5d0e3c",
   "metadata": {},
   "outputs": [
    {
     "data": {
      "image/png": "[encoded data removed]",
      "text/plain": [
       "<Figure size 792x504 with 1 Axes>"
      ]
     },
     "metadata": {
      "needs_background": "light"
     },
     "output_type": "display_data"
    }
   ],
   "source": [
    "plt.figure(figsize=(11,7))\n",
    "x = sns.barplot(data = df_new.groupby('order_hour_of_day')['add_to_cart_order'].sum().sort_values(ascending = False).reset_index()[0:30], x = 'order_hour_of_day', y = 'add_to_cart_order',palette='RdPu')\n",
    "x.set_xticklabels(x.get_xticklabels(), rotation = 90)\n",
    "x.set_title('how hour of day affect purchases?')\n",
    "x.set(xlabel = 'order_hour_of_day', ylabel = 'Units Ordered')\n",
    "plt.show()"
   ]
  },
  {
   "cell_type": "markdown",
   "id": "1530649b",
   "metadata": {},
   "source": [
    "### How frequently do individuals order groceries?\n",
    "\n",
    "The days since the previous order information can be used to infer this. Most customers appear to have placed their orders before the 7 and 30 day mark. As consumers often stock up weekly or monthly, this is also expected."
   ]
  },
  {
   "cell_type": "code",
   "execution_count": 112,
   "id": "7786325f",
   "metadata": {},
   "outputs": [
    {
     "data": {
      "image/png": "[encoded data removed]",
      "text/plain": [
       "<Figure size 792x504 with 1 Axes>"
      ]
     },
     "metadata": {
      "needs_background": "light"
     },
     "output_type": "display_data"
    }
   ],
   "source": [
    "plt.figure(figsize=(11,7))\n",
    "x = sns.barplot(data = df_new.groupby('days_since_prior_order')['add_to_cart_order'].sum().sort_values(ascending = False).reset_index()[0:30], x = 'days_since_prior_order', y = 'add_to_cart_order',palette='PuBu')\n",
    "x.set_xticklabels(x.get_xticklabels(), rotation = 90)\n",
    "x.set_title('how the count of day since last order affect purchases?')\n",
    "x.set(xlabel = 'days_since_prior_order', ylabel = 'Units Ordered')\n",
    "plt.show()"
   ]
  },
  {
   "cell_type": "code",
   "execution_count": 38,
   "id": "2f383e45",
   "metadata": {},
   "outputs": [
    {
     "data": {
      "image/png": "[encoded data removed]",
      "text/plain": [
       "<Figure size 792x504 with 2 Axes>"
      ]
     },
     "metadata": {
      "needs_background": "light"
     },
     "output_type": "display_data"
    }
   ],
   "source": [
    "#Plotting the heat map of orders in per day\n",
    "ticks={'0':'Sunday','1':'Monday','2':'Tuesday','3':'Wednesday','4':'Thursday','5':'Friday','6':'Saturday'}\n",
    "groupeddf = orders.groupby(['order_dow', 'order_hour_of_day'])['order_id'].agg('count').reset_index().rename(columns={'order_id':'orders_count'})\n",
    "heatmap_data = groupeddf.pivot('order_dow', 'order_hour_of_day', 'orders_count')\n",
    "\n",
    "plt.figure(figsize=(11,7))\n",
    "ax = sns.heatmap(data=heatmap_data, cmap=\"rocket\", linewidths=.5)\n",
    "ax.set_yticklabels(ticks.values(), rotation = 45)\n",
    "plt.title('Frequency of orders in per each day and hour')\n",
    "plt.ylabel('Day of week')\n",
    "plt.xlabel('Hour of day')\n",
    "plt.show()"
   ]
  },
  {
   "cell_type": "code",
   "execution_count": 39,
   "id": "dd45b72c",
   "metadata": {},
   "outputs": [
    {
     "data": {
      "image/png": "[encoded data removed]",
      "text/plain": [
       "<Figure size 792x504 with 2 Axes>"
      ]
     },
     "metadata": {
      "needs_background": "light"
     },
     "output_type": "display_data"
    }
   ],
   "source": [
    "#Graph for heatmap of reording in each day and hour\n",
    "non_first_orders = df_new['order_number'] != 1\n",
    "groupeddf = df_new[non_first_orders].groupby(['order_dow', 'order_hour_of_day']).agg({'reordered':'mean'}).reset_index().rename(columns={'reordered':'reordered_ratio'})\n",
    "heatmap_data = groupeddf.pivot('order_dow', 'order_hour_of_day', 'reordered_ratio')\n",
    "plt.figure(figsize=(11,7))\n",
    "ax = sns.heatmap(data=heatmap_data, cmap=\"rocket\", linewidths=.5)\n",
    "plt.title('Probability of reordering in each day and hour')\n",
    "plt.ylabel('Day of week')\n",
    "plt.xlabel('Hour of day')\n",
    "plt.show()"
   ]
  },
  {
   "cell_type": "code",
   "execution_count": 96,
   "id": "5e6d5fbf",
   "metadata": {},
   "outputs": [
    {
     "data": {
      "image/png": "[encoded data removed]",
      "text/plain": [
       "<Figure size 792x504 with 1 Axes>"
      ]
     },
     "metadata": {
      "needs_background": "light"
     },
     "output_type": "display_data"
    }
   ],
   "source": [
    "#Bar plot for the ratio on last reordered to new order \n",
    "plt.figure(figsize=(11,7))\n",
    "groupeddf = df_new.groupby(['days_since_prior_order']).agg({'reordered': 'mean'}).rename(columns={'reordered':'reordered_ratio'}).reset_index()\n",
    "sns.barplot(x=groupeddf['days_since_prior_order'], y=groupeddf['reordered_ratio']*100,  palette='viridis')\n",
    "plt.ylabel('Ratio of reordered products in new order')\n",
    "plt.xlabel('Days since last order')\n",
    "plt.xticks(rotation=90)\n",
    "plt.title('Effect of duration since last order on reordered ratio of the new order')\n",
    "plt.show()"
   ]
  },
  {
   "cell_type": "code",
   "execution_count": 115,
   "id": "79471fd1",
   "metadata": {},
   "outputs": [
    {
     "data": {
      "image/png": "[encoded data removed]",
      "text/plain": [
       "<Figure size 792x504 with 1 Axes>"
      ]
     },
     "metadata": {
      "needs_background": "light"
     },
     "output_type": "display_data"
    }
   ],
   "source": [
    "plt.figure(figsize=(11,7))\n",
    "groupeddf = df_new.groupby(['days_since_prior_order']).agg({'reordered': 'mean'}).rename(columns={'reordered':'reordered_ratio'}).reset_index()\n",
    "sns.lineplot(x=groupeddf['days_since_prior_order'], y=groupeddf['reordered_ratio']*100)\n",
    "plt.ylabel('Ratio of reordered products in new order')\n",
    "plt.xlabel('Days since last order')\n",
    "plt.xticks(rotation=90)\n",
    "plt.title('Effect of duration since last order on reordered ratio of the new order')\n",
    "plt.show()"
   ]
  },
  {
   "cell_type": "code",
   "execution_count": 97,
   "id": "dae1f6dc",
   "metadata": {},
   "outputs": [
    {
     "data": {
      "image/png": "[encoded data removed]",
      "text/plain": [
       "<Figure size 792x504 with 1 Axes>"
      ]
     },
     "metadata": {
      "needs_background": "light"
     },
     "output_type": "display_data"
    }
   ],
   "source": [
    "#Popular items ordered \n",
    "plt.figure(figsize=(11,7))\n",
    "x = sns.barplot(data = df_new.groupby('product_name')['add_to_cart_order'].sum().sort_values(ascending = False).reset_index()[0:30], x = 'product_name', y = 'add_to_cart_order', palette='flare')\n",
    "x.set_xticklabels(x.get_xticklabels(), rotation = 90)\n",
    "\n",
    "x.set(xlabel = 'product_name', ylabel = 'Units Ordered')\n",
    "plt.title('Most popular items in terms of units ordered')\n",
    "plt.show()"
   ]
  },
  {
   "cell_type": "code",
   "execution_count": 94,
   "id": "b45c1775",
   "metadata": {},
   "outputs": [
    {
     "data": {
      "image/png": "[encoded data removed]",
      "text/plain": [
       "<Figure size 792x504 with 1 Axes>"
      ]
     },
     "metadata": {
      "needs_background": "light"
     },
     "output_type": "display_data"
    }
   ],
   "source": [
    "#Popular departments\n",
    "plt.figure(figsize=(11,7))\n",
    "x = sns.barplot(data = df_new.groupby('department')['add_to_cart_order'].sum().sort_values(ascending = False).reset_index()[0:30], x = 'department', y = 'add_to_cart_order')\n",
    "x.set_xticklabels(x.get_xticklabels(), rotation = 90)\n",
    "x.set(xlabel = 'Department', ylabel = 'Units Ordered')\n",
    "plt.title(\"Most popular departments in terms of units ordered\")\n",
    "plt.show()"
   ]
  },
  {
   "cell_type": "code",
   "execution_count": 116,
   "id": "f78a3c34",
   "metadata": {},
   "outputs": [
    {
     "data": {
      "image/png": "[encoded data removed]",
      "text/plain": [
       "<Figure size 792x504 with 1 Axes>"
      ]
     },
     "metadata": {
      "needs_background": "light"
     },
     "output_type": "display_data"
    }
   ],
   "source": [
    "#Popular Aisles\n",
    "plt.figure(figsize=(11,7))\n",
    "x = sns.barplot(data = df_new.groupby('aisle')['add_to_cart_order'].sum().sort_values(ascending = False).reset_index()[0:30], x = 'aisle', y = 'add_to_cart_order', palette = 'Spectral')\n",
    "x.set_xticklabels(x.get_xticklabels(), rotation = 90)\n",
    "x.set(xlabel = 'aisle', ylabel = 'Units Ordered')\n",
    "plt.title(\"Most popular aisles in terms of units ordered\")\n",
    "plt.show()"
   ]
  },
  {
   "cell_type": "code",
   "execution_count": 44,
   "id": "24072c63",
   "metadata": {},
   "outputs": [
    {
     "data": {
      "text/plain": [
       "<Figure size 792x504 with 0 Axes>"
      ]
     },
     "metadata": {},
     "output_type": "display_data"
    },
    {
     "data": {
      "image/png": "[encoded data removed]",
      "text/plain": [
       "<Figure size 432x288 with 1 Axes>"
      ]
     },
     "metadata": {
      "needs_background": "light"
     },
     "output_type": "display_data"
    }
   ],
   "source": [
    "# Sorting Products by the count of times they appeared first in cart.\n",
    "\n",
    "total_orders= len(all_orders.order_id.unique())\n",
    "\n",
    "first_order_product = all_orders[all_orders['add_to_cart_order'] == 1]\n",
    "first_product_freq_desc = first_order_product.groupby(['product_name'], as_index = False)['order_id'].count().sort_values(by=['order_id'], ascending=False)\n",
    "first_product_freq_desc['count_of_ordering_first'] = first_product_freq_desc['order_id']\n",
    "\n",
    "# Ploting the Percentage of being ordered first for the 30 most first ordered products.\n",
    "\n",
    "first_product_freq_desc['percentage_of_ordering_first'] = (first_product_freq_desc['count_of_ordering_first']/total_orders) * 100\n",
    "plt.figure(figsize=(11,7))\n",
    "first_product_freq_desc.iloc[:30].plot.bar(x='product_name', y='percentage_of_ordering_first')\n",
    "plt.ylabel('30 most first ordered products')\n",
    "plt.xlabel('probability of being ordered first')\n",
    "plt.xticks(rotation=90)\n",
    "plt.title('How often a product is the first item purchased?')\n",
    "plt.show()"
   ]
  },
  {
   "cell_type": "code",
   "execution_count": 88,
   "id": "64392665",
   "metadata": {},
   "outputs": [
    {
     "data": {
      "image/png": "[encoded data removed]",
      "text/plain": [
       "<Figure size 648x360 with 1 Axes>"
      ]
     },
     "metadata": {
      "needs_background": "light"
     },
     "output_type": "display_data"
    }
   ],
   "source": [
    "#Organinc products\n",
    "total_products_count = products.shape[0]\n",
    "organic_ratio = products['is_organic'].value_counts()/total_products_count*100\n",
    "plt.figure(figsize=(9,5))\n",
    "ax = sns.barplot(x= organic_ratio.index, y=organic_ratio.values)\n",
    "plt.title('Ratio of organic products found in supermarket')\n",
    "plt.show()"
   ]
  },
  {
   "cell_type": "code",
   "execution_count": 72,
   "id": "c164de9b",
   "metadata": {},
   "outputs": [
    {
     "data": {
      "image/png": "[encoded data removed]",
      "text/plain": [
       "<Figure size 648x360 with 1 Axes>"
      ]
     },
     "metadata": {
      "needs_background": "light"
     },
     "output_type": "display_data"
    }
   ],
   "source": [
    "#Purchase of orgainc products\n",
    "total_order_products_count = products.shape[0]\n",
    "organic_freq = df_new['is_organic'].value_counts()/total_order_products_count*100\n",
    "plt.figure(figsize=(9,5))\n",
    "ax = sns.barplot(x= organic_freq.index, y=organic_freq.values, palette = ['tab:green','tab:red'])\n",
    "ax.set_xticklabels(['non-organic', 'organic'])\n",
    "plt.title('Frequency of buying organic products')\n",
    "plt.show()"
   ]
  },
  {
   "cell_type": "code",
   "execution_count": 82,
   "id": "243e3d47",
   "metadata": {},
   "outputs": [
    {
     "data": {
      "image/png": "[encoded data removed]",
      "text/plain": [
       "<Figure size 648x360 with 1 Axes>"
      ]
     },
     "metadata": {
      "needs_background": "light"
     },
     "output_type": "display_data"
    }
   ],
   "source": [
    "#Re-purchase of organic vs non-organic products\n",
    "non_first_orders_mask = df_new['order_number'] != 1\n",
    "groupeddf = df_new[non_first_orders_mask].groupby(['is_organic']).agg({'reordered':'mean'}).rename(columns={'reordered':'reordered_ratio'}).reset_index()\n",
    "plt.figure(figsize=(9,5))\n",
    "ax = sns.barplot(x='is_organic', y='reordered_ratio', data=groupeddf, palette = 'husl')\n",
    "ax.set_xticklabels(['non-organic', 'organic'])\n",
    "plt.title('Reordering ratio of organic products vs non-organic')\n",
    "plt.show()"
   ]
  },
  {
   "cell_type": "code",
   "execution_count": 51,
   "id": "4df67bc6",
   "metadata": {},
   "outputs": [
    {
     "data": {
      "text/plain": [
       "aisle\n",
       "fresh fruits                  3792661\n",
       "fresh vegetables              3568630\n",
       "packaged vegetables fruits    1843806\n",
       "yogurt                        1507583\n",
       "packaged cheese               1021462\n",
       "                               ...   \n",
       "eye ear care                     9522\n",
       "baby bath body care              8909\n",
       "baby accessories                 8466\n",
       "beauty                           6455\n",
       "frozen juice                     5147\n",
       "Name: aisle_id, Length: 134, dtype: int64"
      ]
     },
     "execution_count": 51,
     "metadata": {},
     "output_type": "execute_result"
    }
   ],
   "source": [
    "# Using groupBy to group the rows based on aisle\n",
    "df_new.groupby(\"aisle\")['aisle_id'].count().sort_values(ascending=False)"
   ]
  },
  {
   "cell_type": "code",
   "execution_count": 52,
   "id": "91f2c332",
   "metadata": {},
   "outputs": [
    {
     "data": {
      "text/plain": [
       "aisle                       order_hour_of_day\n",
       "fresh fruits                10                   324094\n",
       "                            11                   312667\n",
       "                            14                   309481\n",
       "                            15                   307355\n",
       "                            13                   303397\n",
       "                                                  ...  \n",
       "frozen juice                3                        14\n",
       "specialty wines champagnes  4                        14\n",
       "baby bath body care         3                        14\n",
       "baby accessories            2                         9\n",
       "frozen juice                4                         6\n",
       "Name: aisle_id, Length: 3216, dtype: int64"
      ]
     },
     "execution_count": 52,
     "metadata": {},
     "output_type": "execute_result"
    }
   ],
   "source": [
    "df_new.groupby([\"aisle\", \"order_hour_of_day\"])['aisle_id'].count().sort_values(ascending=False)"
   ]
  },
  {
   "cell_type": "code",
   "execution_count": 53,
   "id": "184f77a0",
   "metadata": {},
   "outputs": [
    {
     "data": {
      "text/plain": [
       "department  order_hour_of_day\n",
       "produce     10                   832676\n",
       "            11                   829503\n",
       "            14                   821799\n",
       "            13                   813308\n",
       "            15                   811559\n",
       "                                  ...  \n",
       "other       3                        72\n",
       "bulk        2                        69\n",
       "other       4                        66\n",
       "bulk        3                        50\n",
       "            4                        47\n",
       "Name: department_id, Length: 504, dtype: int64"
      ]
     },
     "execution_count": 53,
     "metadata": {},
     "output_type": "execute_result"
    }
   ],
   "source": [
    "# Using groupBy for both department and order_hour_of_day \n",
    "df_new.groupby([\"department\", \"order_hour_of_day\"])['department_id'].count().sort_values(ascending=False)"
   ]
  },
  {
   "cell_type": "code",
   "execution_count": 54,
   "id": "2026d39d",
   "metadata": {},
   "outputs": [
    {
     "data": {
      "text/plain": [
       "product_name\n",
       "Banana                                           491291\n",
       "Bag of Organic Bananas                           394930\n",
       "Organic Strawberries                             275577\n",
       "Organic Baby Spinach                             251705\n",
       "Organic Hass Avocado                             220877\n",
       "                                                  ...  \n",
       "Greek Blended Cherry Fat Free Yogurt                  1\n",
       "All Natural Stevia Liquid Extract Sweetener           1\n",
       "Frittata, Farmer's Market                             1\n",
       "Max White With Polishing Star Soft Toothbrush         1\n",
       "Orange Recharge                                       1\n",
       "Name: product_id, Length: 49685, dtype: int64"
      ]
     },
     "execution_count": 54,
     "metadata": {},
     "output_type": "execute_result"
    }
   ],
   "source": [
    "df_new.groupby(\"product_name\")['product_id'].count().sort_values(ascending=False)"
   ]
  },
  {
   "cell_type": "code",
   "execution_count": 55,
   "id": "f9e81a08",
   "metadata": {},
   "outputs": [
    {
     "data": {
      "text/plain": [
       "product_name\n",
       "Banana                                                115521\n",
       "Bag of Organic Bananas                                 82877\n",
       "Organic Whole Milk                                     32071\n",
       "Organic Strawberries                                   28875\n",
       "Organic Hass Avocado                                   24913\n",
       "                                                       ...  \n",
       "Prime Cuts Svory Beef Dog Food                             1\n",
       "Lucky Charms Marshmallow Flavor Treats                     1\n",
       "Complete Skillet Meal For Two Beef & Broccoli              1\n",
       "Complete Sensitive All Day Moisturizer With SPF 15         1\n",
       "Artichoke Hearts In Water                                  1\n",
       "Name: product_id, Length: 42188, dtype: int64"
      ]
     },
     "execution_count": 55,
     "metadata": {},
     "output_type": "execute_result"
    }
   ],
   "source": [
    "add2cart_1=df_new[df_new['add_to_cart_order']==1]\n",
    "add2cart_1.groupby(\"product_name\")['product_id'].count().sort_values(ascending=False)"
   ]
  },
  {
   "cell_type": "code",
   "execution_count": 56,
   "id": "ff1516c5",
   "metadata": {},
   "outputs": [
    {
     "data": {
      "text/plain": [
       "product_name\n",
       "Banana                                                83631\n",
       "Bag of Organic Bananas                                67204\n",
       "Organic Strawberries                                  30836\n",
       "Organic Hass Avocado                                  27442\n",
       "Organic Baby Spinach                                  26071\n",
       "                                                      ...  \n",
       "Farmland Hickory Smoked Bacon 24oz                        1\n",
       "Sugar Free Orange Marmalade                               1\n",
       "Farmhouse Reserve Aged Cheddar Cheese                     1\n",
       "Farmer’s Market Vine Ripened Tomato & Basil Hummus        1\n",
       "Crunchy Almond Unsalted Butter                            1\n",
       "Name: product_id, Length: 42003, dtype: int64"
      ]
     },
     "execution_count": 56,
     "metadata": {},
     "output_type": "execute_result"
    }
   ],
   "source": [
    "add2cart_2=df_new[df_new['add_to_cart_order']==2]\n",
    "add2cart_2.groupby(\"product_name\")['product_id'].count().sort_values(ascending=False)"
   ]
  },
  {
   "cell_type": "code",
   "execution_count": 57,
   "id": "dc6233b5",
   "metadata": {},
   "outputs": [
    {
     "data": {
      "text/plain": [
       "product_name\n",
       "Banana                                                                    60832\n",
       "Bag of Organic Bananas                                                    50923\n",
       "Organic Strawberries                                                      28908\n",
       "Organic Baby Spinach                                                      25346\n",
       "Organic Hass Avocado                                                      25029\n",
       "                                                                          ...  \n",
       "Soup Mix, Split Pea, with Seasonings                                          1\n",
       "Air Effects UNstopables Fresh Air Freshener (1 Count, 9.7 oz) Air Care        1\n",
       "Keurig House Blend Extra Bold Medium Roast Coffee K Cups                      1\n",
       "Sore Throat, Sprayer, Menthol                                                 1\n",
       "Mixations Pineapple Pouch Apple                                               1\n",
       "Name: product_id, Length: 41963, dtype: int64"
      ]
     },
     "execution_count": 57,
     "metadata": {},
     "output_type": "execute_result"
    }
   ],
   "source": [
    "add2cart_3=df_new[df_new['add_to_cart_order']==3]\n",
    "add2cart_3.groupby(\"product_name\")['product_id'].count().sort_values(ascending=False)"
   ]
  },
  {
   "cell_type": "code",
   "execution_count": 58,
   "id": "e1523489",
   "metadata": {},
   "outputs": [
    {
     "data": {
      "text/plain": [
       "count    206209.000000\n",
       "mean         16.226658\n",
       "std          16.662238\n",
       "min           3.000000\n",
       "25%           6.000000\n",
       "50%          10.000000\n",
       "75%          20.000000\n",
       "max         100.000000\n",
       "Name: order_id, dtype: float64"
      ]
     },
     "execution_count": 58,
     "metadata": {},
     "output_type": "execute_result"
    }
   ],
   "source": [
    "# summary of number of orders by user\n",
    "\n",
    "df_new.groupby('user_id')['order_id'].nunique().describe()"
   ]
  },
  {
   "cell_type": "code",
   "execution_count": 61,
   "id": "d3f8ce3c",
   "metadata": {},
   "outputs": [
    {
     "data": {
      "text/plain": [
       "[Text(0.5, 0, 'Orders/User')]"
      ]
     },
     "execution_count": 61,
     "metadata": {},
     "output_type": "execute_result"
    },
    {
     "data": {
      "image/png": "[encoded data removed]",
      "text/plain": [
       "<Figure size 432x288 with 1 Axes>"
      ]
     },
     "metadata": {
      "needs_background": "light"
     },
     "output_type": "display_data"
    }
   ],
   "source": [
    "# distribution plot of orders/user\n",
    "\n",
    "x = sns.distplot(df_new.groupby('user_id')['order_id'].nunique())\n",
    "x.set(xlabel = 'Orders/User')"
   ]
  },
  {
   "cell_type": "code",
   "execution_count": 62,
   "id": "44f64706",
   "metadata": {},
   "outputs": [
    {
     "data": {
      "text/plain": [
       "count    206209.000000\n",
       "mean       1372.342643\n",
       "std        2489.390476\n",
       "min           3.000000\n",
       "25%         203.000000\n",
       "50%         568.000000\n",
       "75%        1483.000000\n",
       "max      138990.000000\n",
       "Name: add_to_cart_order, dtype: float64"
      ]
     },
     "execution_count": 62,
     "metadata": {},
     "output_type": "execute_result"
    }
   ],
   "source": [
    "# summary of units ordered/customer over the year\n",
    "\n",
    "df_new.groupby('user_id')['add_to_cart_order'].sum().describe()"
   ]
  },
  {
   "cell_type": "code",
   "execution_count": 63,
   "id": "cfdb981f",
   "metadata": {},
   "outputs": [
    {
     "data": {
      "text/plain": [
       "[Text(0.5, 0, 'Units Ordered/User')]"
      ]
     },
     "execution_count": 63,
     "metadata": {},
     "output_type": "execute_result"
    },
    {
     "data": {
      "image/png": "[encoded data removed]",
      "text/plain": [
       "<Figure size 432x288 with 1 Axes>"
      ]
     },
     "metadata": {
      "needs_background": "light"
     },
     "output_type": "display_data"
    }
   ],
   "source": [
    "# distplot of number of units ordered/customer ordered over the year\n",
    "\n",
    "x = sns.distplot(df_new.groupby('user_id')['add_to_cart_order'].sum())\n",
    "x.set(xlabel = 'Units Ordered/User')"
   ]
  },
  {
   "cell_type": "code",
   "execution_count": 64,
   "id": "871fc650",
   "metadata": {},
   "outputs": [
    {
     "data": {
      "text/plain": [
       "count    3.346083e+06\n",
       "mean     8.457334e+01\n",
       "std      1.355298e+02\n",
       "min      1.000000e+00\n",
       "25%      1.500000e+01\n",
       "50%      3.600000e+01\n",
       "75%      1.050000e+02\n",
       "max      1.058500e+04\n",
       "Name: add_to_cart_order, dtype: float64"
      ]
     },
     "execution_count": 64,
     "metadata": {},
     "output_type": "execute_result"
    }
   ],
   "source": [
    "# summary of order size\n",
    "\n",
    "df_new.groupby('order_id')['add_to_cart_order'].sum().describe()"
   ]
  },
  {
   "cell_type": "code",
   "execution_count": 65,
   "id": "cc1fd1c0",
   "metadata": {},
   "outputs": [
    {
     "data": {
      "text/plain": [
       "[Text(0.5, 0, 'Units/Order')]"
      ]
     },
     "execution_count": 65,
     "metadata": {},
     "output_type": "execute_result"
    },
    {
     "data": {
      "image/png": "[encoded data removed]",
      "text/plain": [
       "<Figure size 432x288 with 1 Axes>"
      ]
     },
     "metadata": {
      "needs_background": "light"
     },
     "output_type": "display_data"
    }
   ],
   "source": [
    "# distplot of number of units/order\n",
    "\n",
    "x = sns.distplot(df_new.groupby('order_id')['add_to_cart_order'].sum())\n",
    "x.set(xlabel = 'Units/Order')"
   ]
  },
  {
   "cell_type": "code",
   "execution_count": 66,
   "id": "bdeb5700",
   "metadata": {},
   "outputs": [
    {
     "data": {
      "text/plain": [
       "[Text(0.5, 0, 'Units/Order')]"
      ]
     },
     "execution_count": 66,
     "metadata": {},
     "output_type": "execute_result"
    },
    {
     "data": {
      "image/png": "[encoded data removed]",
      "text/plain": [
       "<Figure size 432x288 with 1 Axes>"
      ]
     },
     "metadata": {
      "needs_background": "light"
     },
     "output_type": "display_data"
    }
   ],
   "source": [
    "# cutoff previous distplot 500 units\n",
    "\n",
    "order_size = df_new.groupby('order_id')['add_to_cart_order'].sum().reset_index()\n",
    "\n",
    "x = sns.distplot(order_size[order_size['add_to_cart_order'] < 500]['add_to_cart_order'], kde = False)\n",
    "x.set(xlabel = 'Units/Order')"
   ]
  },
  {
   "cell_type": "code",
   "execution_count": 67,
   "id": "8f2db45f",
   "metadata": {},
   "outputs": [
    {
     "data": {
      "text/plain": [
       "count    206209.000000\n",
       "mean         15.448686\n",
       "std           6.915575\n",
       "min           0.000000\n",
       "25%           9.814815\n",
       "50%          15.000000\n",
       "75%          20.625000\n",
       "max          30.000000\n",
       "Name: days_since_prior_order, dtype: float64"
      ]
     },
     "execution_count": 67,
     "metadata": {},
     "output_type": "execute_result"
    }
   ],
   "source": [
    "# summary statistics for average time between orders by user\n",
    "\n",
    "orders.groupby('user_id')['days_since_prior_order'].mean().describe()"
   ]
  },
  {
   "cell_type": "code",
   "execution_count": 68,
   "id": "7841e214",
   "metadata": {},
   "outputs": [
    {
     "data": {
      "text/plain": [
       "[Text(0.5, 0, 'Average Days Between Orders By User')]"
      ]
     },
     "execution_count": 68,
     "metadata": {},
     "output_type": "execute_result"
    },
    {
     "data": {
      "image/png": "[encoded data removed]",
      "text/plain": [
       "<Figure size 432x288 with 1 Axes>"
      ]
     },
     "metadata": {
      "needs_background": "light"
     },
     "output_type": "display_data"
    }
   ],
   "source": [
    "# distplot for time between orders\n",
    "\n",
    "x = sns.distplot(orders.groupby('user_id')['days_since_prior_order'].mean())\n",
    "x.set(xlabel = 'Average Days Between Orders By User')"
   ]
  },
  {
   "cell_type": "code",
   "execution_count": 89,
   "id": "92ba68c3",
   "metadata": {},
   "outputs": [
    {
     "data": {
      "image/png": "[encoded data removed]",
      "text/plain": [
       "<Figure size 432x288 with 1 Axes>"
      ]
     },
     "metadata": {
      "needs_background": "light"
     },
     "output_type": "display_data"
    }
   ],
   "source": [
    "#Repurchase of items accoridng to the train set\n",
    "total_prod_count = order_products_train.shape[0]\n",
    "reorder_ratio = order_products_train['reordered'].value_counts()/total_prod_count\n",
    "ax = sns.barplot(x=reorder_ratio.index, y=reorder_ratio.values, palette = 'Set2')\n",
    "ax.set_xticklabels(['first-time ordered products', 'reordered'])\n",
    "plt.title('Reordered ratio of products in train set')\n",
    "plt.show()"
   ]
  },
  {
   "cell_type": "code",
   "execution_count": null,
   "id": "2fd018be",
   "metadata": {},
   "outputs": [],
   "source": []
  }
 ],
 "metadata": {
  "kernelspec": {
   "display_name": "Python 3 (ipykernel)",
   "language": "python",
   "name": "python3"
  },
  "language_info": {
   "codemirror_mode": {
    "name": "ipython",
    "version": 3
   },
   "file_extension": ".py",
   "mimetype": "text/x-python",
   "name": "python",
   "nbconvert_exporter": "python",
   "pygments_lexer": "ipython3",
   "version": "3.9.11"
  }
 },
 "nbformat": 4,
 "nbformat_minor": 5
}
